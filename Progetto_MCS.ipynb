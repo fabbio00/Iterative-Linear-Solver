{
  "cells": [
    {
      "cell_type": "markdown",
      "metadata": {
        "id": "ZOVcR-_eUqBH"
      },
      "source": [
        "# Progetto MCS"
      ]
    },
    {
      "cell_type": "markdown",
      "metadata": {
        "id": "Kqgg_EuHb2Fm"
      },
      "source": [
        "Per la gestione della struttura dati e le operazioni elementari fra matrici è richiesto di partire da una libreria open-source, come Eigen, Armadillo, blas/lapack. Oppure, qualora il linguaggio di programmazione lo permetta utilizzare vettori e matrici già implementate al suo interno.\n"
      ]
    },
    {
      "cell_type": "markdown",
      "metadata": {
        "id": "_vLrCTow6pux"
      },
      "source": [
        "Condizione di arresto: $\\frac{||Ax^{(k)}-b||}{||b||}<tol$\n",
        "\n",
        "Reminder: \n",
        "\n",
        "1.   **Iniziare le iterazioni con il vettore x nullo**\n",
        "2.   **tol = [$10^{-4}, 10^{-6}, 10^{-8}, 10^{-10}]$**\n",
        "3.   **Dichiarare di non essere giunti a convergenza se k > maxiter dove maxiter lo scegliamo (>= 20000)**\n",
        "\n",
        "\n"
      ]
    },
    {
      "cell_type": "markdown",
      "metadata": {
        "id": "Q-JhE2d4fZgT"
      },
      "source": [
        "## Data Import"
      ]
    },
    {
      "cell_type": "code",
      "execution_count": 1,
      "metadata": {
        "id": "g6jKR1Wk-Wqp"
      },
      "outputs": [],
      "source": [
        "import numpy as np\n",
        "from scipy.io import mmread\n",
        "from scipy.sparse import csr_matrix"
      ]
    },
    {
      "cell_type": "code",
      "execution_count": 12,
      "metadata": {
        "id": "Cu4xGTCOYNKU"
      },
      "outputs": [],
      "source": [
        "#import\n",
        "spa1 = mmread('data/spa1.mtx')\n",
        "spa2 = mmread('data/spa2.mtx')\n",
        "vem1 = mmread('data/vem1.mtx')\n",
        "vem2 = mmread('data/vem2.mtx')"
      ]
    },
    {
      "cell_type": "code",
      "execution_count": 11,
      "metadata": {
        "colab": {
          "base_uri": "https://localhost:8080/"
        },
        "id": "uW86NSNCCziF",
        "outputId": "e7db10ff-b6d4-49b2-9f05-22e712e657b3"
      },
      "outputs": [],
      "source": [
        "spa1 = csr_matrix(spa1, (spa1).shape).toarray()\n",
        "# spa1"
      ]
    },
    {
      "cell_type": "markdown",
      "metadata": {
        "id": "f5kwHfGH6bDF"
      },
      "source": [
        "Creazione vettore $b$"
      ]
    },
    {
      "cell_type": "code",
      "execution_count": null,
      "metadata": {
        "id": "VQaklqzSJ5Mr"
      },
      "outputs": [],
      "source": [
        "spa1x = [1]*spa1.shape[0]\n",
        "spa1b = spa1.dot(spa1x)\n",
        "# spa1b"
      ]
    },
    {
      "cell_type": "code",
      "execution_count": null,
      "metadata": {
        "id": "YyAPwPFb6Df1"
      },
      "outputs": [],
      "source": [
        "spa2x = [1]*spa2.shape[0]\n",
        "spa2b = spa2.dot(spa2x)\n",
        "# spa2b"
      ]
    },
    {
      "cell_type": "markdown",
      "metadata": {
        "id": "U-gnxnUabWFc"
      },
      "source": [
        "## Metodo di Jacobi\n",
        "https://en.wikipedia.org/wiki/Jacobi_method"
      ]
    },
    {
      "cell_type": "code",
      "execution_count": 30,
      "metadata": {
        "colab": {
          "base_uri": "https://localhost:8080/"
        },
        "id": "wF5-y0kfbbF4",
        "outputId": "5e7bf131-d866-409a-e2f5-fd155d3a5ee7"
      },
      "outputs": [
        {
          "name": "stdout",
          "output_type": "stream",
          "text": [
            "100\n",
            "200\n",
            "300\n",
            "400\n",
            "500\n",
            "600\n",
            "700\n",
            "800\n",
            "900\n"
          ]
        },
        {
          "name": "stderr",
          "output_type": "stream",
          "text": [
            "<ipython-input-30-63817d988813>:9: RuntimeWarning: overflow encountered in double_scalars\n",
            "  sigma = sigma + spa1[i][j]*iteration_vector[j]\n",
            "<ipython-input-30-63817d988813>:9: RuntimeWarning: invalid value encountered in double_scalars\n",
            "  sigma = sigma + spa1[i][j]*iteration_vector[j]\n"
          ]
        }
      ],
      "source": [
        "iteration_vector = [0]*spa1.shape[0]\n",
        "k = 0\n",
        "tol = 10**(-4)\n",
        "while (np.divide(np.linalg.norm((np.subtract(spa1.dot(iteration_vector), spa1b))), np.linalg.norm(spa1b)) >= tol) and k <= 20000:\n",
        "  #vedere cosa del range e errori che da\n",
        "  for i in range (1, spa1.shape[0]):\n",
        "    sigma = 0\n",
        "    for j in range(1, spa1.shape[0]):\n",
        "      if(j!=i):\n",
        "        sigma = sigma + spa1[i][j]*iteration_vector[j]\n",
        "    iteration_vector[i] = (spa1b[i]-sigma)/spa1[i][i]\n",
        "  k = k+1\n",
        "  if(k%100 == 0):\n",
        "    print(k)"
      ]
    },
    {
      "cell_type": "markdown",
      "metadata": {
        "id": "Ue8-VyjR9gop"
      },
      "source": [
        "### Errore relativo - numero iterazioni - tempo di calcolo"
      ]
    },
    {
      "cell_type": "code",
      "execution_count": 31,
      "metadata": {
        "colab": {
          "base_uri": "https://localhost:8080/"
        },
        "id": "IYjbcvkM9n2v",
        "outputId": "61bf06d4-02f6-477f-8483-fd2c5373e03e"
      },
      "outputs": [
        {
          "data": {
            "text/plain": [
              "913"
            ]
          },
          "execution_count": 31,
          "metadata": {},
          "output_type": "execute_result"
        }
      ],
      "source": [
        "#numero iterazioni\n",
        "k"
      ]
    },
    {
      "cell_type": "code",
      "execution_count": 32,
      "metadata": {
        "colab": {
          "base_uri": "https://localhost:8080/"
        },
        "id": "ib_ChPLXZv3n",
        "outputId": "1fc6b2d4-8085-4ebc-ae76-3d092abc623b"
      },
      "outputs": [
        {
          "data": {
            "text/plain": [
              "nan"
            ]
          },
          "execution_count": 32,
          "metadata": {},
          "output_type": "execute_result"
        }
      ],
      "source": [
        "#errore relativo\n",
        "np.linalg.norm(np.subtract(iteration_vector, spa1x))/np.linalg.norm(spa1x)"
      ]
    },
    {
      "cell_type": "markdown",
      "metadata": {
        "id": "gDgXAO4F9Zqa"
      },
      "source": []
    },
    {
      "cell_type": "markdown",
      "metadata": {
        "id": "dkfvIXkLbchZ"
      },
      "source": [
        "## Metodo di Gauß-Seidel\n"
      ]
    },
    {
      "cell_type": "code",
      "execution_count": null,
      "metadata": {
        "id": "1EXW926fbvqs"
      },
      "outputs": [],
      "source": []
    },
    {
      "cell_type": "markdown",
      "metadata": {
        "id": "ANbpDWkobi2n"
      },
      "source": [
        "## Metodo del Gradiente\n"
      ]
    },
    {
      "cell_type": "code",
      "execution_count": null,
      "metadata": {
        "id": "LCmCpXWFbwLO"
      },
      "outputs": [],
      "source": []
    },
    {
      "cell_type": "markdown",
      "metadata": {
        "id": "a_6ydPtybq1C"
      },
      "source": [
        "## Metodo del Gradiente coniugato\n"
      ]
    },
    {
      "cell_type": "code",
      "execution_count": null,
      "metadata": {
        "id": "IKun5XMlbwuH"
      },
      "outputs": [],
      "source": []
    }
  ],
  "metadata": {
    "colab": {
      "provenance": []
    },
    "kernelspec": {
      "display_name": "base",
      "language": "python",
      "name": "python3"
    },
    "language_info": {
      "codemirror_mode": {
        "name": "ipython",
        "version": 3
      },
      "file_extension": ".py",
      "mimetype": "text/x-python",
      "name": "python",
      "nbconvert_exporter": "python",
      "pygments_lexer": "ipython3",
      "version": "3.9.7"
    }
  },
  "nbformat": 4,
  "nbformat_minor": 0
}
