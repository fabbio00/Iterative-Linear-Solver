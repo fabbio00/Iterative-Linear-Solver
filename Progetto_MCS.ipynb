{
  "cells": [
    {
      "attachments": {},
      "cell_type": "markdown",
      "metadata": {
        "id": "ZOVcR-_eUqBH"
      },
      "source": [
        "# Progetto MCS"
      ]
    },
    {
      "attachments": {},
      "cell_type": "markdown",
      "metadata": {
        "id": "Kqgg_EuHb2Fm"
      },
      "source": [
        "Per la gestione della struttura dati e le operazioni elementari fra matrici è richiesto di partire da una libreria open-source, come Eigen, Armadillo, blas/lapack. Oppure, qualora il linguaggio di programmazione lo permetta utilizzare vettori e matrici già implementate al suo interno.\n"
      ]
    },
    {
      "attachments": {},
      "cell_type": "markdown",
      "metadata": {
        "id": "Q-JhE2d4fZgT"
      },
      "source": [
        "## Data Import"
      ]
    },
    {
      "attachments": {},
      "cell_type": "markdown",
      "metadata": {},
      "source": [
        "Impotazione delle librerie necessarie"
      ]
    },
    {
      "cell_type": "code",
      "execution_count": null,
      "metadata": {
        "id": "g6jKR1Wk-Wqp"
      },
      "outputs": [],
      "source": [
        "import numpy as np\n",
        "import pandas as pd\n",
        "from scipy.io import mmread\n",
        "from scipy.sparse import csr_matrix, tril\n",
        "from scipy.sparse.linalg import spsolve_triangular"
      ]
    },
    {
      "attachments": {},
      "cell_type": "markdown",
      "metadata": {},
      "source": [
        "Recupero dei dati"
      ]
    },
    {
      "cell_type": "code",
      "execution_count": null,
      "metadata": {},
      "outputs": [],
      "source": [
        "data = {\n",
        "    \"spa1\" : 0,\n",
        "    \"spa2\" : 0,\n",
        "    \"vem1\" : 0,\n",
        "    \"vem2\" : 0}\n",
        "for x in data:\n",
        "    data[x] = {\n",
        "        \"A\" : mmread(\"data/\" + x + \".mtx\").tocsr(),\n",
        "        \"x\" : 0,\n",
        "        \"b\" : 0,\n",
        "    }\n",
        "    data[x][\"x\"] = np.array([1.0]*data[x][\"A\"].get_shape()[0])\n",
        "    data[x][\"b\"] = np.array(data[x][\"A\"].dot(data[x][\"x\"]))\n",
        "resTot = {}"
      ]
    },
    {
      "attachments": {},
      "cell_type": "markdown",
      "metadata": {},
      "source": [
        "Tolleranze e metodi"
      ]
    },
    {
      "cell_type": "code",
      "execution_count": null,
      "metadata": {},
      "outputs": [],
      "source": [
        "## Tolleranze\n",
        "tols = [10**(-4), 10**(-6), 10**(-8), 10**(-10)]\n",
        "\n",
        "## Metodi\n",
        "metods = [\"Jacoby\", \"Gauss-Seidel\", \"Gradiente\", \"Gradiente Coniugato\"]"
      ]
    },
    {
      "attachments": {},
      "cell_type": "markdown",
      "metadata": {},
      "source": [
        "Dizionario contente le classi risolutrici"
      ]
    },
    {
      "cell_type": "code",
      "execution_count": null,
      "metadata": {},
      "outputs": [],
      "source": [
        "import jacoby_mcs as ja\n",
        "import gauss_seidel as gs\n",
        "import gradiente as gr\n",
        "import gradiente_coniugato as grc\n",
        "\n",
        "solver = {}\n",
        "solver[\"Jacoby\"] = ja\n",
        "solver[\"Gauss-Seidel\"] = gs\n",
        "solver[\"Gradiente\"] = gr\n",
        "solver[\"Gradiente Coniugato\"] = grc"
      ]
    },
    {
      "attachments": {},
      "cell_type": "markdown",
      "metadata": {
        "id": "_vLrCTow6pux"
      },
      "source": [
        "Condizione di arresto: $\\frac{||Ax^{(k)}-b||}{||b||}<tol$\n",
        "\n",
        "Reminder: \n",
        "\n",
        "1.   **Iniziare le iterazioni con il vettore x nullo**\n",
        "2.   **tol = [$10^{-4}, 10^{-6}, 10^{-8}, 10^{-10}]$**\n",
        "3.   **Dichiarare di non essere giunti a convergenza se k > maxiter dove maxiter lo scegliamo (>= 20000)**\n",
        "\n",
        "\n"
      ]
    },
    {
      "attachments": {},
      "cell_type": "markdown",
      "metadata": {},
      "source": [
        "### Grafici e informazioni sulle matrici"
      ]
    },
    {
      "attachments": {},
      "cell_type": "markdown",
      "metadata": {},
      "source": [
        "Impostazione dei grafici"
      ]
    },
    {
      "cell_type": "code",
      "execution_count": null,
      "metadata": {},
      "outputs": [],
      "source": [
        "import matplotlib.pylab as plt\n",
        "plt.style.use('seaborn')\n",
        "plt.rcParams['figure.figsize'] = [15, 18]\n",
        "plt.rcParams['figure.dpi'] = 100"
      ]
    },
    {
      "attachments": {},
      "cell_type": "markdown",
      "metadata": {},
      "source": [
        "Grafici delle matrici"
      ]
    },
    {
      "cell_type": "code",
      "execution_count": null,
      "metadata": {},
      "outputs": [],
      "source": [
        "i = 221\n",
        "for mt in data:\n",
        "    plt.subplot(i)\n",
        "    plt.spy(data[mt][\"A\"], markersize = 200/data[mt][\"A\"].shape[0])\n",
        "    plt.title(\"Matrice \" + mt, fontsize = 18 )\n",
        "    i += 1\n",
        "plt.suptitle(\"Matrici usate per il progetto\", fontsize = 40)"
      ]
    },
    {
      "attachments": {},
      "cell_type": "markdown",
      "metadata": {},
      "source": [
        "info sulle matrici"
      ]
    },
    {
      "cell_type": "code",
      "execution_count": null,
      "metadata": {},
      "outputs": [],
      "source": [
        "for mt in data:\n",
        "    den = str(round((100 * data[mt][\"A\"].nnz) / (data[mt][\"A\"].shape[0]*data[mt][\"A\"].shape[1]), 2))\n",
        "    print(\"La matrice \" + mt + \" è una matrice \" + str(data[mt][\"A\"].shape[0]) + \"x\" + str(data[mt][\"A\"].shape[1]) + \", contiene \" + str(data[mt][\"A\"].nnz) + \" elementi diversi da 0 ed è quindi densa del \" + den + \"%\")"
      ]
    },
    {
      "attachments": {},
      "cell_type": "markdown",
      "metadata": {},
      "source": [
        "### Preparazione grafico del residuo/errore relativo"
      ]
    },
    {
      "cell_type": "code",
      "execution_count": null,
      "metadata": {},
      "outputs": [],
      "source": [
        "#PRIMA DI ESEGUIRLO CHIAMARE LE FUNZIONI IN FONDO\n",
        "charts_results = {}\n",
        "metods = {\n",
        "    'jacobi': jacobi,\n",
        "    'gauss_seidel': gauss_seidel,\n",
        "    'gradiente': gradiente,\n",
        "    'gradiente_coniugato': gradiente_coniugato\n",
        "}\n",
        "for metod in metods:    \n",
        "    charts_results[metod] = {}\n",
        "    for el in data:\n",
        "        charts_results[metod][el] = []\n",
        "        for tol in tols:\n",
        "            chart_result = metods[metod](data[el][\"A\"], data[el][\"b\"], data[el][\"x\"], tol)\n",
        "            charts_results[metod][el].append(chart_result)\n",
        "charts_results\n",
        "\n"
      ]
    },
    {
      "attachments": {},
      "cell_type": "markdown",
      "metadata": {},
      "source": [
        "### GRAFICI SU RESIDUI PER NUMERO ITER"
      ]
    },
    {
      "cell_type": "code",
      "execution_count": null,
      "metadata": {},
      "outputs": [],
      "source": [
        "strtols = [\"1e-04\", \"1e-06\", \"1e-08\", \"1e-10\"]\n",
        "for metod in metods:\n",
        "    for el in data:\n",
        "        plt.plot(charts_results[metod][el][3][\"residual_chart\"])\n",
        "        for index, chart in enumerate(charts_results[metod][el]):\n",
        "            x=len(chart[\"residual_chart\"])\n",
        "            plt.plot(x, charts_results[metod][el][3][\"residual_chart\"][x-1], color='red', marker='o')\n",
        "            plt.text(x, charts_results[metod][el][3][\"residual_chart\"][x-1], strtols[index], color='black', verticalalignment='bottom')\n",
        "\n",
        "        # Etichette degli array\n",
        "        plt.xlabel('ITERAZIONI')\n",
        "        plt.ylabel('VALORE CRITERIO DI ARRESTO')\n",
        "        plt.title('VALORI CRITERIO DI ARRESTO PER '+ metod.upper() + ' SULLA MATRICE ' + el.upper() )\n",
        "        # Mostra il grafico\n",
        "        plt.rcParams['figure.figsize'] = [15, 12]\n",
        "        plt.savefig('VALORI CRITERIO DI ARRESTO PER '+ metod.upper() + ' SULLA MATRICE ' + el.upper())\n",
        "        plt.show()"
      ]
    },
    {
      "attachments": {},
      "cell_type": "markdown",
      "metadata": {},
      "source": [
        "### GRAFICI SU ERRORI RELATIVI PER NUMERO ITER"
      ]
    },
    {
      "cell_type": "code",
      "execution_count": null,
      "metadata": {},
      "outputs": [],
      "source": [
        "#max_length = max(len(chart[\"errrel_chart\"]) for chart in charts_results['jacobi']['spa1'])\n",
        "strtols = [\"1e-04\", \"1e-06\", \"1e-08\", \"1e-10\"]\n",
        "for metod in metods:\n",
        "    for el in data:\n",
        "        plt.plot(charts_results[metod][el][3][\"errrel_chart\"])\n",
        "        for index, chart in enumerate(charts_results[metod][el]):\n",
        "            x=len(chart[\"errrel_chart\"])\n",
        "            plt.plot(x, charts_results[metod][el][3][\"errrel_chart\"][x-1], color='red', marker='o')\n",
        "            plt.text(x, charts_results[metod][el][3][\"errrel_chart\"][x-1], strtols[index], color='black', verticalalignment='bottom')\n",
        "\n",
        "        # Etichette degli array\n",
        "        plt.xlabel('ITERAZIONI')\n",
        "        plt.ylabel('ERRORE RELATIVO')\n",
        "        plt.title('ERRORE RELATIVO PER '+ metod.upper() + ' SULLA MATRICE ' + el.upper() )\n",
        "        plt.rcParams['figure.figsize'] = [15, 12]\n",
        "        plt.savefig('ERRORE RELATIVO PER '+ metod.upper() + ' SULLA MATRICE ' + el.upper())\n",
        "        # Mostra il grafico\n",
        "        plt.show()\n"
      ]
    },
    {
      "attachments": {},
      "cell_type": "markdown",
      "metadata": {},
      "source": []
    },
    {
      "attachments": {},
      "cell_type": "markdown",
      "metadata": {
        "id": "U-gnxnUabWFc"
      },
      "source": [
        "## Metodo di Jacobi"
      ]
    },
    {
      "cell_type": "code",
      "execution_count": null,
      "metadata": {},
      "outputs": [],
      "source": [
        "import jacoby_mcs as ja\n",
        "method = \"Jacoby\"\n",
        "resTot = {}\n",
        "resTot[method] = {}\n",
        "for el in data:\n",
        "    resTot[method][el] = []\n",
        "    for tol in tols:\n",
        "        res = ja.solve(data[el][\"A\"], data[el][\"b\"], data[el][\"x\"], tol)\n",
        "        resTot[method][el].append({\n",
        "            \"tol\" : tol,\n",
        "            \"nIter\" : res[\"nIter\"],\n",
        "            \"time\" : res[\"time\"],\n",
        "            \"eRel\" : res[\"eRel\"] \n",
        "        })\n",
        "\n",
        "resTot"
      ]
    },
    {
      "attachments": {},
      "cell_type": "markdown",
      "metadata": {},
      "source": [
        "### Grafici"
      ]
    },
    {
      "cell_type": "code",
      "execution_count": null,
      "metadata": {},
      "outputs": [],
      "source": [
        "tmpDF = {}\n",
        "iterDF = {}\n",
        "errDF = {}\n",
        "br = {}\n",
        "for tol in tols:\n",
        "    br[str(tol)] = []\n",
        "    tmpDF[str(tol)] = []\n",
        "    iterDF[str(tol)] = []\n",
        "    errDF[str(tol)] = []\n",
        "for mt in resTot[method]:\n",
        "    for el in resTot[method][mt]:\n",
        "        tmpDF[str(el[\"tol\"])].append(el[\"time\"])\n",
        "        iterDF[str(el[\"tol\"])].append(el[\"nIter\"])\n",
        "        errDF[str(el[\"tol\"])].append(el[\"eRel\"])\n",
        "    \n",
        "barWidth = 1/(len(tmpDF)+1)\n",
        "\n",
        "ks = list(br.keys())\n",
        "br[ks[0]] = np.arange(len(tols))\n",
        "for i in range(1, len(br)):\n",
        "    br[ks[i]] =  br2 = [round(x + barWidth, 2) for x in br[ks[i-1]]]\n",
        "\n",
        "colors = [\"r\", \"g\", \"b\", \"y\"]\n",
        "\n",
        "mts = list(data.keys())\n",
        "\n",
        "plt.rcParams['figure.figsize'] = [9, 6]\n"
      ]
    },
    {
      "attachments": {},
      "cell_type": "markdown",
      "metadata": {},
      "source": [
        "Istogrammi tempi"
      ]
    },
    {
      "cell_type": "code",
      "execution_count": null,
      "metadata": {},
      "outputs": [],
      "source": [
        "for i in range(len(tols)):\n",
        "    plt.bar(br[str(tols[i])], tmpDF[str(tols[i])], \n",
        "            color = colors[i], width = barWidth,\n",
        "                edgecolor ='grey', label =str(tols[i]))\n",
        "\n",
        "plt.xlabel('Matrici', fontweight ='bold', fontsize = 15)\n",
        "plt.ylabel('tempistiche', fontsize = 15)\n",
        "plt.xticks([r + barWidth for r in range(len(tols))],\n",
        "        mts)\n",
        "plt.title(method)\n",
        "\n",
        "plt.legend()\n",
        "plt.show()"
      ]
    },
    {
      "cell_type": "code",
      "execution_count": null,
      "metadata": {},
      "outputs": [],
      "source": [
        "for i in range(len(tols)):\n",
        "    plt.bar(br[str(tols[i])][:2], tmpDF[str(tols[i])][:2], \n",
        "            color = colors[i], width = barWidth,\n",
        "                edgecolor ='grey', label =str(tols[i]))\n",
        "\n",
        "plt.xlabel('Matrici', fontweight ='bold', fontsize = 15)\n",
        "plt.ylabel('tempistiche', fontsize = 15)\n",
        "plt.xticks([r + barWidth for r in range(len(mts[:2]))],\n",
        "        mts[:2])\n",
        "plt.title(method + \" ~ SPA\")\n",
        "\n",
        "plt.legend()\n",
        "plt.show()\n",
        "\n",
        "for i in range(len(tols)):\n",
        "    plt.bar(br[str(tols[i])][:2], tmpDF[str(tols[i])][2:], \n",
        "            color = colors[i], width = barWidth,\n",
        "                edgecolor ='grey', label =str(tols[i]))\n",
        "\n",
        "plt.xlabel('Matrici', fontweight ='bold', fontsize = 15)\n",
        "plt.ylabel('tempistiche', fontsize = 15)\n",
        "plt.xticks([r + barWidth for r in range(len(mts[2:]))],\n",
        "        mts[2:])\n",
        "plt.title(method + \" ~ VEM\")\n",
        "\n",
        "plt.legend()\n",
        "plt.show()"
      ]
    },
    {
      "attachments": {},
      "cell_type": "markdown",
      "metadata": {},
      "source": [
        "Istogrammi iterazioni"
      ]
    },
    {
      "cell_type": "code",
      "execution_count": null,
      "metadata": {},
      "outputs": [],
      "source": [
        "for i in range(len(tols)):\n",
        "    plt.bar(br[str(tols[i])], iterDF[str(tols[i])], \n",
        "            color = colors[i], width = barWidth,\n",
        "                edgecolor ='grey', label =str(tols[i]))\n",
        "\n",
        "plt.xlabel('Matrici', fontweight ='bold', fontsize = 15)\n",
        "plt.ylabel('iterazioni', fontsize = 15)\n",
        "plt.xticks([r + barWidth for r in range(len(tols))],\n",
        "        mts)\n",
        "plt.title(method)\n",
        "\n",
        "plt.legend()\n",
        "plt.show()"
      ]
    },
    {
      "cell_type": "code",
      "execution_count": null,
      "metadata": {},
      "outputs": [],
      "source": [
        "for i in range(len(tols)):\n",
        "    plt.bar(br[str(tols[i])][:2], iterDF[str(tols[i])][:2], \n",
        "            color = colors[i], width = barWidth,\n",
        "                edgecolor ='grey', label =str(tols[i]))\n",
        "\n",
        "plt.xlabel('Matrici', fontweight ='bold', fontsize = 15)\n",
        "plt.ylabel('iterazioni', fontsize = 15)\n",
        "plt.xticks([r + barWidth for r in range(len(mts[:2]))],\n",
        "        mts[:2])\n",
        "plt.title(method + \" ~ SPA\")\n",
        "\n",
        "plt.legend()\n",
        "plt.show()\n",
        "\n",
        "for i in range(len(tols)):\n",
        "    plt.bar(br[str(tols[i])][:2], iterDF[str(tols[i])][2:], \n",
        "            color = colors[i], width = barWidth,\n",
        "                edgecolor ='grey', label =str(tols[i]))\n",
        "\n",
        "plt.xlabel('Matrici', fontweight ='bold', fontsize = 15)\n",
        "plt.ylabel('iterazioni', fontsize = 15)\n",
        "plt.xticks([r + barWidth for r in range(len(mts[2:]))],\n",
        "        mts[2:])\n",
        "plt.title(method + \" ~ VEM\")\n",
        "\n",
        "plt.legend()\n",
        "plt.show()"
      ]
    },
    {
      "attachments": {},
      "cell_type": "markdown",
      "metadata": {},
      "source": [
        "Istogrammi errori relativi"
      ]
    },
    {
      "cell_type": "code",
      "execution_count": null,
      "metadata": {},
      "outputs": [],
      "source": [
        "for i in range(len(tols)):\n",
        "    plt.bar(br[str(tols[i])], errDF[str(tols[i])], \n",
        "            color = colors[i], width = barWidth,\n",
        "                edgecolor ='grey', label =str(tols[i]))\n",
        "\n",
        "plt.xlabel('Matrici', fontweight ='bold', fontsize = 15)\n",
        "plt.ylabel('errori relativi', fontsize = 15)\n",
        "plt.xticks([r + barWidth for r in range(len(tols))],\n",
        "        mts)\n",
        "plt.title(method)\n",
        "\n",
        "plt.legend()\n",
        "plt.show()"
      ]
    },
    {
      "cell_type": "code",
      "execution_count": null,
      "metadata": {},
      "outputs": [],
      "source": [
        "for i in range(len(tols)):\n",
        "    plt.bar(br[str(tols[i])][:2], errDF[str(tols[i])][:2], \n",
        "            color = colors[i], width = barWidth,\n",
        "                edgecolor ='grey', label =str(tols[i]))\n",
        "\n",
        "plt.xlabel('Matrici', fontweight ='bold', fontsize = 15)\n",
        "plt.ylabel('errori relativi', fontsize = 15)\n",
        "plt.xticks([r + barWidth for r in range(len(mts[:2]))],\n",
        "        mts[:2])\n",
        "plt.title(method + \" ~ SPA\")\n",
        "\n",
        "plt.legend()\n",
        "plt.show()\n",
        "\n",
        "for i in range(len(tols)):\n",
        "    plt.bar(br[str(tols[i])][:2], errDF[str(tols[i])][2:], \n",
        "            color = colors[i], width = barWidth,\n",
        "                edgecolor ='grey', label =str(tols[i]))\n",
        "\n",
        "plt.xlabel('Matrici', fontweight ='bold', fontsize = 15)\n",
        "plt.ylabel('errori relativi', fontsize = 15)\n",
        "plt.xticks([r + barWidth for r in range(len(mts[2:]))],\n",
        "        mts[2:])\n",
        "plt.title(method + \" ~ VEM\")\n",
        "\n",
        "plt.legend()\n",
        "plt.show()"
      ]
    },
    {
      "attachments": {},
      "cell_type": "markdown",
      "metadata": {},
      "source": [
        "## Metodo di Gauß-Seidel"
      ]
    },
    {
      "attachments": {},
      "cell_type": "markdown",
      "metadata": {},
      "source": [
        "1. $r^{(k)} = b − Ax^{(k)}$\n",
        "2. Sostituzione in avanti Py = r^{(k)}\n",
        "3. $x^{(k+1)} = y^{(k)} + y$\n"
      ]
    },
    {
      "cell_type": "code",
      "execution_count": null,
      "metadata": {},
      "outputs": [],
      "source": [
        "import gauss_seidel as gs\n",
        "method = \"Gauss-Seidel\"\n",
        "resTot[method] = {}\n",
        "for el in data:\n",
        "    resTot[method][el] = []\n",
        "    for tol in tols:\n",
        "        res = gs.solve(mtxA=data[el][\"A\"], vectB=data[el][\"b\"], tol=tol, vectX=data[el][\"x\"])\n",
        "        resTot[method][el].append({\n",
        "            \"tol\" : tol,\n",
        "            \"nIter\" : res[\"nIter\"],\n",
        "            \"time\" : res[\"time\"],\n",
        "            \"eRel\" : res[\"eRel\"] \n",
        "        })\n",
        "\n",
        "resTot"
      ]
    },
    {
      "attachments": {},
      "cell_type": "markdown",
      "metadata": {},
      "source": [
        "### Grafici"
      ]
    },
    {
      "cell_type": "code",
      "execution_count": null,
      "metadata": {},
      "outputs": [],
      "source": [
        "tmpDF = {}\n",
        "iterDF = {}\n",
        "errDF = {}\n",
        "br = {}\n",
        "for tol in tols:\n",
        "    br[str(tol)] = []\n",
        "    tmpDF[str(tol)] = []\n",
        "    iterDF[str(tol)] = []\n",
        "    errDF[str(tol)] = []\n",
        "for mt in resTot[method]:\n",
        "    for el in resTot[method][mt]:\n",
        "        tmpDF[str(el[\"tol\"])].append(el[\"time\"])\n",
        "        iterDF[str(el[\"tol\"])].append(el[\"nIter\"])\n",
        "        errDF[str(el[\"tol\"])].append(el[\"eRel\"])\n",
        "    \n",
        "barWidth = 1/(len(tmpDF)+1)\n",
        "\n",
        "ks = list(br.keys())\n",
        "br[ks[0]] = np.arange(len(tols))\n",
        "for i in range(1, len(br)):\n",
        "    br[ks[i]] =  br2 = [round(x + barWidth, 2) for x in br[ks[i-1]]]\n",
        "\n",
        "colors = [\"r\", \"g\", \"b\", \"y\"]\n",
        "\n",
        "mts = list(data.keys())\n",
        "\n",
        "plt.rcParams['figure.figsize'] = [9, 6]\n"
      ]
    },
    {
      "attachments": {},
      "cell_type": "markdown",
      "metadata": {},
      "source": [
        "Istogrammi tempi"
      ]
    },
    {
      "cell_type": "code",
      "execution_count": null,
      "metadata": {},
      "outputs": [],
      "source": [
        "for i in range(len(tols)):\n",
        "    plt.bar(br[str(tols[i])], tmpDF[str(tols[i])], \n",
        "            color = colors[i], width = barWidth,\n",
        "                edgecolor ='grey', label =str(tols[i]))\n",
        "\n",
        "plt.xlabel('Matrici', fontweight ='bold', fontsize = 15)\n",
        "plt.ylabel('tempistiche', fontsize = 15)\n",
        "plt.xticks([r + barWidth for r in range(len(tols))],\n",
        "        mts)\n",
        "plt.title(method)\n",
        "\n",
        "plt.legend()\n",
        "plt.show()"
      ]
    },
    {
      "cell_type": "code",
      "execution_count": null,
      "metadata": {},
      "outputs": [],
      "source": [
        "for i in range(len(tols)):\n",
        "    plt.bar(br[str(tols[i])][:2], tmpDF[str(tols[i])][:2], \n",
        "            color = colors[i], width = barWidth,\n",
        "                edgecolor ='grey', label =str(tols[i]))\n",
        "\n",
        "plt.xlabel('Matrici', fontweight ='bold', fontsize = 15)\n",
        "plt.ylabel('tempistiche', fontsize = 15)\n",
        "plt.xticks([r + barWidth for r in range(len(mts[:2]))],\n",
        "        mts[:2])\n",
        "plt.title(method + \" ~ SPA\")\n",
        "\n",
        "plt.legend()\n",
        "plt.show()\n",
        "\n",
        "for i in range(len(tols)):\n",
        "    plt.bar(br[str(tols[i])][:2], tmpDF[str(tols[i])][2:], \n",
        "            color = colors[i], width = barWidth,\n",
        "                edgecolor ='grey', label =str(tols[i]))\n",
        "\n",
        "plt.xlabel('Matrici', fontweight ='bold', fontsize = 15)\n",
        "plt.ylabel('tempistiche', fontsize = 15)\n",
        "plt.xticks([r + barWidth for r in range(len(mts[2:]))],\n",
        "        mts[2:])\n",
        "plt.title(method + \" ~ VEM\")\n",
        "\n",
        "plt.legend()\n",
        "plt.show()"
      ]
    },
    {
      "attachments": {},
      "cell_type": "markdown",
      "metadata": {},
      "source": [
        "Istogrammi iterazioni"
      ]
    },
    {
      "cell_type": "code",
      "execution_count": null,
      "metadata": {},
      "outputs": [],
      "source": [
        "for i in range(len(tols)):\n",
        "    plt.bar(br[str(tols[i])], iterDF[str(tols[i])], \n",
        "            color = colors[i], width = barWidth,\n",
        "                edgecolor ='grey', label =str(tols[i]))\n",
        "\n",
        "plt.xlabel('Matrici', fontweight ='bold', fontsize = 15)\n",
        "plt.ylabel('iterazioni', fontsize = 15)\n",
        "plt.xticks([r + barWidth for r in range(len(tols))],\n",
        "        mts)\n",
        "plt.title(method)\n",
        "\n",
        "plt.legend()\n",
        "plt.show()"
      ]
    },
    {
      "cell_type": "code",
      "execution_count": null,
      "metadata": {},
      "outputs": [],
      "source": [
        "for i in range(len(tols)):\n",
        "    plt.bar(br[str(tols[i])][:2], iterDF[str(tols[i])][:2], \n",
        "            color = colors[i], width = barWidth,\n",
        "                edgecolor ='grey', label =str(tols[i]))\n",
        "\n",
        "plt.xlabel('Matrici', fontweight ='bold', fontsize = 15)\n",
        "plt.ylabel('iterazioni', fontsize = 15)\n",
        "plt.xticks([r + barWidth for r in range(len(mts[:2]))],\n",
        "        mts[:2])\n",
        "plt.title(method + \" ~ SPA\")\n",
        "\n",
        "plt.legend()\n",
        "plt.show()\n",
        "\n",
        "for i in range(len(tols)):\n",
        "    plt.bar(br[str(tols[i])][:2], iterDF[str(tols[i])][2:], \n",
        "            color = colors[i], width = barWidth,\n",
        "                edgecolor ='grey', label =str(tols[i]))\n",
        "\n",
        "plt.xlabel('Matrici', fontweight ='bold', fontsize = 15)\n",
        "plt.ylabel('iterazioni', fontsize = 15)\n",
        "plt.xticks([r + barWidth for r in range(len(mts[2:]))],\n",
        "        mts[2:])\n",
        "plt.title(method + \" ~ VEM\")\n",
        "\n",
        "plt.legend()\n",
        "plt.show()"
      ]
    },
    {
      "attachments": {},
      "cell_type": "markdown",
      "metadata": {},
      "source": [
        "Istogrammi errori relativi"
      ]
    },
    {
      "cell_type": "code",
      "execution_count": null,
      "metadata": {},
      "outputs": [],
      "source": [
        "for i in range(len(tols)):\n",
        "    plt.bar(br[str(tols[i])], errDF[str(tols[i])], \n",
        "            color = colors[i], width = barWidth,\n",
        "                edgecolor ='grey', label =str(tols[i]))\n",
        "\n",
        "plt.xlabel('Matrici', fontweight ='bold', fontsize = 15)\n",
        "plt.ylabel('errori relativi', fontsize = 15)\n",
        "plt.xticks([r + barWidth for r in range(len(tols))],\n",
        "        mts)\n",
        "plt.title(method)\n",
        "\n",
        "plt.legend()\n",
        "plt.show()"
      ]
    },
    {
      "cell_type": "code",
      "execution_count": null,
      "metadata": {},
      "outputs": [],
      "source": [
        "for i in range(len(tols)):\n",
        "    plt.bar(br[str(tols[i])][:2], errDF[str(tols[i])][:2], \n",
        "            color = colors[i], width = barWidth,\n",
        "                edgecolor ='grey', label =str(tols[i]))\n",
        "\n",
        "plt.xlabel('Matrici', fontweight ='bold', fontsize = 15)\n",
        "plt.ylabel('errori relativi', fontsize = 15)\n",
        "plt.xticks([r + barWidth for r in range(len(mts[:2]))],\n",
        "        mts[:2])\n",
        "plt.title(method + \" ~ SPA\")\n",
        "\n",
        "plt.legend()\n",
        "plt.show()\n",
        "\n",
        "for i in range(len(tols)):\n",
        "    plt.bar(br[str(tols[i])][:2], errDF[str(tols[i])][2:], \n",
        "            color = colors[i], width = barWidth,\n",
        "                edgecolor ='grey', label =str(tols[i]))\n",
        "\n",
        "plt.xlabel('Matrici', fontweight ='bold', fontsize = 15)\n",
        "plt.ylabel('errori relativi', fontsize = 15)\n",
        "plt.xticks([r + barWidth for r in range(len(mts[2:]))],\n",
        "        mts[2:])\n",
        "plt.title(method + \" ~ VEM\")\n",
        "\n",
        "plt.legend()\n",
        "plt.show()"
      ]
    },
    {
      "attachments": {},
      "cell_type": "markdown",
      "metadata": {
        "id": "ANbpDWkobi2n"
      },
      "source": [
        "## Metodo del Gradiente\n"
      ]
    },
    {
      "attachments": {},
      "cell_type": "markdown",
      "metadata": {},
      "source": [
        "1. $r^{(k)} = b -Ax^{(k)}$\n",
        "2. $y^{(k)} = Ar^{(k)}$\n",
        "3. $a = (r^{(k)})^tr^{(k)}$\n",
        "4. $b = (r^{(k)})^ty^{(k)}$\n",
        "5. $\\alpha_k = a/b$\n",
        "6. $x^{(k+1)} = r^{(k)} \\alpha_kr^{(k)}$"
      ]
    },
    {
      "cell_type": "code",
      "execution_count": null,
      "metadata": {},
      "outputs": [],
      "source": [
        "import gradiente as gr\n",
        "\n",
        "method = \"Gradiente\"\n",
        "solver = {}\n",
        "solver[method] = gr\n",
        "resTot[method] = {}\n",
        "for el in data:\n",
        "    resTot[method][el] = []\n",
        "    for tol in tols:\n",
        "        res = solver[method].solve(mtxA=data[el][\"A\"], vectB=data[el][\"b\"], tol=tol, vectX=data[el][\"x\"])\n",
        "        resTot[method][el].append({\n",
        "            \"tol\" : tol,\n",
        "            \"nIter\" : res[\"nIter\"],\n",
        "            \"time\" : res[\"time\"],\n",
        "            \"eRel\" : res[\"eRel\"] \n",
        "        })\n",
        "resTot"
      ]
    },
    {
      "attachments": {},
      "cell_type": "markdown",
      "metadata": {},
      "source": [
        "### Grafici"
      ]
    },
    {
      "cell_type": "code",
      "execution_count": null,
      "metadata": {},
      "outputs": [],
      "source": [
        "tmpDF = {}\n",
        "iterDF = {}\n",
        "errDF = {}\n",
        "br = {}\n",
        "for tol in tols:\n",
        "    br[str(tol)] = []\n",
        "    tmpDF[str(tol)] = []\n",
        "    iterDF[str(tol)] = []\n",
        "    errDF[str(tol)] = []\n",
        "for mt in resTot[method]:\n",
        "    for el in resTot[method][mt]:\n",
        "        tmpDF[str(el[\"tol\"])].append(el[\"time\"])\n",
        "        iterDF[str(el[\"tol\"])].append(el[\"nIter\"])\n",
        "        errDF[str(el[\"tol\"])].append(el[\"eRel\"])\n",
        "    \n",
        "barWidth = 1/(len(tmpDF)+1)\n",
        "\n",
        "ks = list(br.keys())\n",
        "br[ks[0]] = np.arange(len(tols))\n",
        "for i in range(1, len(br)):\n",
        "    br[ks[i]] =  br2 = [round(x + barWidth, 2) for x in br[ks[i-1]]]\n",
        "\n",
        "colors = [\"r\", \"g\", \"b\", \"y\"]\n",
        "\n",
        "mts = list(data.keys())\n",
        "\n",
        "plt.rcParams['figure.figsize'] = [9, 6]\n"
      ]
    },
    {
      "attachments": {},
      "cell_type": "markdown",
      "metadata": {},
      "source": [
        "Istogrammi tempi"
      ]
    },
    {
      "cell_type": "code",
      "execution_count": null,
      "metadata": {},
      "outputs": [],
      "source": [
        "for i in range(len(tols)):\n",
        "    plt.bar(br[str(tols[i])], tmpDF[str(tols[i])], \n",
        "            color = colors[i], width = barWidth,\n",
        "                edgecolor ='grey', label =str(tols[i]))\n",
        "\n",
        "plt.xlabel('Matrici', fontweight ='bold', fontsize = 15)\n",
        "plt.ylabel('tempistiche', fontsize = 15)\n",
        "plt.xticks([r + barWidth for r in range(len(tols))],\n",
        "        mts)\n",
        "plt.title(method)\n",
        "\n",
        "plt.legend()\n",
        "plt.show()"
      ]
    },
    {
      "cell_type": "code",
      "execution_count": null,
      "metadata": {},
      "outputs": [],
      "source": [
        "for i in range(len(tols)):\n",
        "    plt.bar(br[str(tols[i])][:2], tmpDF[str(tols[i])][:2], \n",
        "            color = colors[i], width = barWidth,\n",
        "                edgecolor ='grey', label =str(tols[i]))\n",
        "\n",
        "plt.xlabel('Matrici', fontweight ='bold', fontsize = 15)\n",
        "plt.ylabel('tempistiche', fontsize = 15)\n",
        "plt.xticks([r + barWidth for r in range(len(mts[:2]))],\n",
        "        mts[:2])\n",
        "plt.title(method + \" ~ SPA\")\n",
        "\n",
        "plt.legend()\n",
        "plt.show()\n",
        "\n",
        "for i in range(len(tols)):\n",
        "    plt.bar(br[str(tols[i])][:2], tmpDF[str(tols[i])][2:], \n",
        "            color = colors[i], width = barWidth,\n",
        "                edgecolor ='grey', label =str(tols[i]))\n",
        "\n",
        "plt.xlabel('Matrici', fontweight ='bold', fontsize = 15)\n",
        "plt.ylabel('tempistiche', fontsize = 15)\n",
        "plt.xticks([r + barWidth for r in range(len(mts[2:]))],\n",
        "        mts[2:])\n",
        "plt.title(method + \" ~ VEM\")\n",
        "\n",
        "plt.legend()\n",
        "plt.show()"
      ]
    },
    {
      "attachments": {},
      "cell_type": "markdown",
      "metadata": {},
      "source": [
        "Istogrammi iterazioni"
      ]
    },
    {
      "cell_type": "code",
      "execution_count": null,
      "metadata": {},
      "outputs": [],
      "source": [
        "for i in range(len(tols)):\n",
        "    plt.bar(br[str(tols[i])], iterDF[str(tols[i])], \n",
        "            color = colors[i], width = barWidth,\n",
        "                edgecolor ='grey', label =str(tols[i]))\n",
        "\n",
        "plt.xlabel('Matrici', fontweight ='bold', fontsize = 15)\n",
        "plt.ylabel('iterazioni', fontsize = 15)\n",
        "plt.xticks([r + barWidth for r in range(len(tols))],\n",
        "        mts)\n",
        "plt.title(method)\n",
        "\n",
        "plt.legend()\n",
        "plt.show()"
      ]
    },
    {
      "cell_type": "code",
      "execution_count": null,
      "metadata": {},
      "outputs": [],
      "source": [
        "for i in range(len(tols)):\n",
        "    plt.bar(br[str(tols[i])][:2], iterDF[str(tols[i])][:2], \n",
        "            color = colors[i], width = barWidth,\n",
        "                edgecolor ='grey', label =str(tols[i]))\n",
        "\n",
        "plt.xlabel('Matrici', fontweight ='bold', fontsize = 15)\n",
        "plt.ylabel('iterazioni', fontsize = 15)\n",
        "plt.xticks([r + barWidth for r in range(len(mts[:2]))],\n",
        "        mts[:2])\n",
        "plt.title(method + \" ~ SPA\")\n",
        "\n",
        "plt.legend()\n",
        "plt.show()\n",
        "\n",
        "for i in range(len(tols)):\n",
        "    plt.bar(br[str(tols[i])][:2], iterDF[str(tols[i])][2:], \n",
        "            color = colors[i], width = barWidth,\n",
        "                edgecolor ='grey', label =str(tols[i]))\n",
        "\n",
        "plt.xlabel('Matrici', fontweight ='bold', fontsize = 15)\n",
        "plt.ylabel('iterazioni', fontsize = 15)\n",
        "plt.xticks([r + barWidth for r in range(len(mts[2:]))],\n",
        "        mts[2:])\n",
        "plt.title(method + \" ~ VEM\")\n",
        "\n",
        "plt.legend()\n",
        "plt.show()"
      ]
    },
    {
      "attachments": {},
      "cell_type": "markdown",
      "metadata": {},
      "source": [
        "Istogrammi errori relativi"
      ]
    },
    {
      "cell_type": "code",
      "execution_count": null,
      "metadata": {},
      "outputs": [],
      "source": [
        "for i in range(len(tols)):\n",
        "    plt.bar(br[str(tols[i])], errDF[str(tols[i])], \n",
        "            color = colors[i], width = barWidth,\n",
        "                edgecolor ='grey', label =str(tols[i]))\n",
        "\n",
        "plt.xlabel('Matrici', fontweight ='bold', fontsize = 15)\n",
        "plt.ylabel('errori relativi', fontsize = 15)\n",
        "plt.xticks([r + barWidth for r in range(len(tols))],\n",
        "        mts)\n",
        "plt.title(method)\n",
        "\n",
        "plt.legend()\n",
        "plt.show()"
      ]
    },
    {
      "cell_type": "code",
      "execution_count": null,
      "metadata": {},
      "outputs": [],
      "source": [
        "for i in range(len(tols)):\n",
        "    plt.bar(br[str(tols[i])][:2], errDF[str(tols[i])][:2], \n",
        "            color = colors[i], width = barWidth,\n",
        "                edgecolor ='grey', label =str(tols[i]))\n",
        "\n",
        "plt.xlabel('Matrici', fontweight ='bold', fontsize = 15)\n",
        "plt.ylabel('errori relativi', fontsize = 15)\n",
        "plt.xticks([r + barWidth for r in range(len(mts[:2]))],\n",
        "        mts[:2])\n",
        "plt.title(method + \" ~ SPA\")\n",
        "\n",
        "plt.legend()\n",
        "plt.show()\n",
        "\n",
        "for i in range(len(tols)):\n",
        "    plt.bar(br[str(tols[i])][:2], errDF[str(tols[i])][2:], \n",
        "            color = colors[i], width = barWidth,\n",
        "                edgecolor ='grey', label =str(tols[i]))\n",
        "\n",
        "plt.xlabel('Matrici', fontweight ='bold', fontsize = 15)\n",
        "plt.ylabel('errori relativi', fontsize = 15)\n",
        "plt.xticks([r + barWidth for r in range(len(mts[2:]))],\n",
        "        mts[2:])\n",
        "plt.title(method + \" ~ VEM\")\n",
        "\n",
        "plt.legend()\n",
        "plt.show()"
      ]
    },
    {
      "attachments": {},
      "cell_type": "markdown",
      "metadata": {
        "id": "a_6ydPtybq1C"
      },
      "source": [
        "## Metodo del Gradiente coniugato\n",
        "\n",
        "- Un vettore ottimale rispetto a una direzione d se d*r(k)=0\n",
        "- x(k+1) è ottimale rispetto a r(k+1)\n",
        "- x(k+1) = x(k) + a(k)d(k)\n",
        "- a(k) = ( d(k)^t * r(k) ) / ( d(k)^t * Ad(k) )\n",
        "- d(k+1) = r(k+1) - b(k)*d(k)\n",
        "- b(k) = ( d(k)^t * Ar(k+1) ) / ( d(k)^t * Ad(k) )\n",
        "\n"
      ]
    },
    {
      "cell_type": "code",
      "execution_count": null,
      "metadata": {},
      "outputs": [],
      "source": [
        "import gradiente_coniugato as grc\n",
        "method = \"Gradiente Coniugato\"\n",
        "resTot = {}\n",
        "resTot[method] = {}\n",
        "for el in data:\n",
        "    resTot[method][el] = []\n",
        "    for tol in tols:\n",
        "        res = grc.solve(data[el][\"A\"], data[el][\"b\"], data[el][\"x\"], tol)\n",
        "        resTot[method][el].append({\n",
        "            \"tol\" : tol,\n",
        "            \"nIter\" : res[\"nIter\"],\n",
        "            \"time\" : res[\"time\"],\n",
        "            \"eRel\" : res[\"eRel\"] \n",
        "        })\n",
        "\n",
        "resTot"
      ]
    },
    {
      "attachments": {},
      "cell_type": "markdown",
      "metadata": {},
      "source": [
        "### Grafici"
      ]
    },
    {
      "cell_type": "code",
      "execution_count": null,
      "metadata": {},
      "outputs": [],
      "source": [
        "tmpDF = {}\n",
        "iterDF = {}\n",
        "errDF = {}\n",
        "br = {}\n",
        "for tol in tols:\n",
        "    br[str(tol)] = []\n",
        "    tmpDF[str(tol)] = []\n",
        "    iterDF[str(tol)] = []\n",
        "    errDF[str(tol)] = []\n",
        "for mt in resTot[method]:\n",
        "    for el in resTot[method][mt]:\n",
        "        tmpDF[str(el[\"tol\"])].append(el[\"time\"])\n",
        "        iterDF[str(el[\"tol\"])].append(el[\"nIter\"])\n",
        "        errDF[str(el[\"tol\"])].append(el[\"eRel\"])\n",
        "    \n",
        "barWidth = 1/(len(tmpDF)+1)\n",
        "\n",
        "ks = list(br.keys())\n",
        "br[ks[0]] = np.arange(len(tols))\n",
        "for i in range(1, len(br)):\n",
        "    br[ks[i]] =  br2 = [round(x + barWidth, 2) for x in br[ks[i-1]]]\n",
        "\n",
        "colors = [\"r\", \"g\", \"b\", \"y\"]\n",
        "\n",
        "mts = list(data.keys())\n",
        "\n",
        "plt.rcParams['figure.figsize'] = [9, 6]\n"
      ]
    },
    {
      "attachments": {},
      "cell_type": "markdown",
      "metadata": {},
      "source": [
        "Istogrammi tempi"
      ]
    },
    {
      "cell_type": "code",
      "execution_count": null,
      "metadata": {},
      "outputs": [],
      "source": [
        "for i in range(len(tols)):\n",
        "    plt.bar(br[str(tols[i])], tmpDF[str(tols[i])], \n",
        "            color = colors[i], width = barWidth,\n",
        "                edgecolor ='grey', label =str(tols[i]))\n",
        "\n",
        "plt.xlabel('Matrici', fontweight ='bold', fontsize = 15)\n",
        "plt.ylabel('tempistiche', fontsize = 15)\n",
        "plt.xticks([r + barWidth for r in range(len(tols))],\n",
        "        mts)\n",
        "plt.title(method)\n",
        "\n",
        "plt.legend()\n",
        "plt.show()"
      ]
    },
    {
      "cell_type": "code",
      "execution_count": null,
      "metadata": {},
      "outputs": [],
      "source": [
        "for i in range(len(tols)):\n",
        "    plt.bar(br[str(tols[i])][:2], tmpDF[str(tols[i])][:2], \n",
        "            color = colors[i], width = barWidth,\n",
        "                edgecolor ='grey', label =str(tols[i]))\n",
        "\n",
        "plt.xlabel('Matrici', fontweight ='bold', fontsize = 15)\n",
        "plt.ylabel('tempistiche', fontsize = 15)\n",
        "plt.xticks([r + barWidth for r in range(len(mts[:2]))],\n",
        "        mts[:2])\n",
        "plt.title(method + \" ~ SPA\")\n",
        "\n",
        "plt.legend()\n",
        "plt.show()\n",
        "\n",
        "for i in range(len(tols)):\n",
        "    plt.bar(br[str(tols[i])][:2], tmpDF[str(tols[i])][2:], \n",
        "            color = colors[i], width = barWidth,\n",
        "                edgecolor ='grey', label =str(tols[i]))\n",
        "\n",
        "plt.xlabel('Matrici', fontweight ='bold', fontsize = 15)\n",
        "plt.ylabel('tempistiche', fontsize = 15)\n",
        "plt.xticks([r + barWidth for r in range(len(mts[2:]))],\n",
        "        mts[2:])\n",
        "plt.title(method + \" ~ VEM\")\n",
        "\n",
        "plt.legend()\n",
        "plt.show()"
      ]
    },
    {
      "attachments": {},
      "cell_type": "markdown",
      "metadata": {},
      "source": [
        "Istogrammi iterazioni"
      ]
    },
    {
      "cell_type": "code",
      "execution_count": null,
      "metadata": {},
      "outputs": [],
      "source": [
        "for i in range(len(tols)):\n",
        "    plt.bar(br[str(tols[i])], iterDF[str(tols[i])], \n",
        "            color = colors[i], width = barWidth,\n",
        "                edgecolor ='grey', label =str(tols[i]))\n",
        "\n",
        "plt.xlabel('Matrici', fontweight ='bold', fontsize = 15)\n",
        "plt.ylabel('iterazioni', fontsize = 15)\n",
        "plt.xticks([r + barWidth for r in range(len(tols))],\n",
        "        mts)\n",
        "plt.title(method)\n",
        "\n",
        "plt.legend()\n",
        "plt.show()"
      ]
    },
    {
      "cell_type": "code",
      "execution_count": null,
      "metadata": {},
      "outputs": [],
      "source": [
        "for i in range(len(tols)):\n",
        "    plt.bar(br[str(tols[i])][:2], iterDF[str(tols[i])][:2], \n",
        "            color = colors[i], width = barWidth,\n",
        "                edgecolor ='grey', label =str(tols[i]))\n",
        "\n",
        "plt.xlabel('Matrici', fontweight ='bold', fontsize = 15)\n",
        "plt.ylabel('iterazioni', fontsize = 15)\n",
        "plt.xticks([r + barWidth for r in range(len(mts[:2]))],\n",
        "        mts[:2])\n",
        "plt.title(method + \" ~ SPA\")\n",
        "\n",
        "plt.legend()\n",
        "plt.show()\n",
        "\n",
        "for i in range(len(tols)):\n",
        "    plt.bar(br[str(tols[i])][:2], iterDF[str(tols[i])][2:], \n",
        "            color = colors[i], width = barWidth,\n",
        "                edgecolor ='grey', label =str(tols[i]))\n",
        "\n",
        "plt.xlabel('Matrici', fontweight ='bold', fontsize = 15)\n",
        "plt.ylabel('iterazioni', fontsize = 15)\n",
        "plt.xticks([r + barWidth for r in range(len(mts[2:]))],\n",
        "        mts[2:])\n",
        "plt.title(method + \" ~ VEM\")\n",
        "\n",
        "plt.legend()\n",
        "plt.show()"
      ]
    },
    {
      "attachments": {},
      "cell_type": "markdown",
      "metadata": {},
      "source": [
        "Istogrammi errori relativi"
      ]
    },
    {
      "cell_type": "code",
      "execution_count": null,
      "metadata": {},
      "outputs": [],
      "source": [
        "for i in range(len(tols)):\n",
        "    plt.bar(br[str(tols[i])], errDF[str(tols[i])], \n",
        "            color = colors[i], width = barWidth,\n",
        "                edgecolor ='grey', label =str(tols[i]))\n",
        "\n",
        "plt.xlabel('Matrici', fontweight ='bold', fontsize = 15)\n",
        "plt.ylabel('errori relativi', fontsize = 15)\n",
        "plt.xticks([r + barWidth for r in range(len(tols))],\n",
        "        mts)\n",
        "plt.title(method)\n",
        "\n",
        "plt.legend()\n",
        "plt.show()"
      ]
    },
    {
      "cell_type": "code",
      "execution_count": null,
      "metadata": {},
      "outputs": [],
      "source": [
        "for i in range(len(tols)):\n",
        "    plt.bar(br[str(tols[i])][:2], errDF[str(tols[i])][:2], \n",
        "            color = colors[i], width = barWidth,\n",
        "                edgecolor ='grey', label =str(tols[i]))\n",
        "\n",
        "plt.xlabel('Matrici', fontweight ='bold', fontsize = 15)\n",
        "plt.ylabel('errori relativi', fontsize = 15)\n",
        "plt.xticks([r + barWidth for r in range(len(mts[:2]))],\n",
        "        mts[:2])\n",
        "plt.title(method + \" ~ SPA\")\n",
        "\n",
        "plt.legend()\n",
        "plt.show()\n",
        "\n",
        "for i in range(len(tols)):\n",
        "    plt.bar(br[str(tols[i])][:2], errDF[str(tols[i])][2:], \n",
        "            color = colors[i], width = barWidth,\n",
        "                edgecolor ='grey', label =str(tols[i]))\n",
        "\n",
        "plt.xlabel('Matrici', fontweight ='bold', fontsize = 15)\n",
        "plt.ylabel('errori relativi', fontsize = 15)\n",
        "plt.xticks([r + barWidth for r in range(len(mts[2:]))],\n",
        "        mts[2:])\n",
        "plt.title(method + \" ~ VEM\")\n",
        "\n",
        "plt.legend()\n",
        "plt.show()"
      ]
    },
    {
      "attachments": {},
      "cell_type": "markdown",
      "metadata": {},
      "source": [
        "## Risultati totali"
      ]
    },
    {
      "cell_type": "code",
      "execution_count": null,
      "metadata": {},
      "outputs": [],
      "source": [
        "resTot = {}\n",
        "for mth in solver:    \n",
        "    resTot[mth] = {}\n",
        "    for el in data:\n",
        "        resTot[mth][el] = []\n",
        "        for tol in tols:\n",
        "            res = solver[mth].solve(mtxA=data[el][\"A\"], vectB=data[el][\"b\"], tol=tol, vectX=data[el][\"x\"])\n",
        "            resTot[mth][el].append({\n",
        "                \"tol\" : tol,\n",
        "                \"nIter\" : res[\"nIter\"],\n",
        "                \"time\" : res[\"time\"],\n",
        "                \"eRel\" : res[\"eRel\"] \n",
        "            })\n",
        "resTot"
      ]
    },
    {
      "attachments": {},
      "cell_type": "markdown",
      "metadata": {},
      "source": [
        "## FUNZIONI DEI FILE COMODE QUA PER IL NOTEBOOK"
      ]
    },
    {
      "cell_type": "code",
      "execution_count": null,
      "metadata": {},
      "outputs": [],
      "source": [
        "def relative_error(x, xk1):\n",
        "    return np.linalg.norm(np.subtract(xk1, x))/np.linalg.norm(x)"
      ]
    },
    {
      "cell_type": "code",
      "execution_count": null,
      "metadata": {},
      "outputs": [],
      "source": [
        "def gradiente(mtxA, vectB, vectX, tol):\n",
        "    charts= {\n",
        "        \"residual_chart\": [],\n",
        "        \"errrel_chart\": [],\n",
        "    }\n",
        "    # Variabili\n",
        "    k = 0\n",
        "    vectX1 = np.zeros(mtxA.shape[0])\n",
        "    residual = vectB - mtxA.dot(vectX1)\n",
        "\n",
        "    # Funzione\n",
        "    while np.linalg.norm(residual)/np.linalg.norm(vectB) >= tol and k <= 20000:\n",
        "        k += 1\n",
        "        y = mtxA.dot(residual)\n",
        "        a = residual.T.dot(residual)\n",
        "        b = residual.T.dot(y)\n",
        "        alpha = a/b\n",
        "\n",
        "        vectX1 = vectX1 + alpha * residual\n",
        "        charts[\"residual_chart\"].append(np.linalg.norm(residual)/np.linalg.norm(vectB))\n",
        "        charts[\"errrel_chart\"].append(relative_error(vectX, vectX1))\n",
        "        residual = vectB - mtxA.dot(vectX1)\n",
        "    if k > 20000:\n",
        "        if np.linalg.norm(residual)/np.linalg.norm(vectB) >= tol:\n",
        "            print(\"superato il numero massimo di iterazioni\")\n",
        "    # Risultato\n",
        "    return charts"
      ]
    },
    {
      "cell_type": "code",
      "execution_count": null,
      "metadata": {},
      "outputs": [],
      "source": [
        "def gauss_seidel(mtxA, vectB, vectX, tol):\n",
        "    # Variabili\n",
        "    charts= {\n",
        "        \"residual_chart\": [],\n",
        "        \"errrel_chart\": [],\n",
        "    }\n",
        "    maxIter = 20000\n",
        "    mtxP = tril(mtxA, format=\"csr\")\n",
        "    k = 0\n",
        "    vectX1 = np.zeros(mtxA.shape[0])\n",
        "    residual = vectB - mtxA.dot(vectX1)\n",
        "\n",
        "    # Funzione\n",
        "    while np.linalg.norm(residual)/np.linalg.norm(vectB) >= tol and k <= maxIter:\n",
        "        k += 1\n",
        "        vectX1 = vectX1 + spsolve_triangular(mtxP, residual, lower=True)\n",
        "        charts[\"residual_chart\"].append(np.linalg.norm(residual)/np.linalg.norm(vectB))\n",
        "        charts[\"errrel_chart\"].append(relative_error(vectX, vectX1))\n",
        "        residual = vectB - mtxA.dot(vectX1)\n",
        "\n",
        "    if k > 20000:\n",
        "        if np.linalg.norm(residual)/np.linalg.norm(vectB) > tol:\n",
        "            print(\"superato il numero massimo di iterazioni\")\n",
        "    # Risultato\n",
        "    return charts"
      ]
    },
    {
      "cell_type": "code",
      "execution_count": null,
      "metadata": {},
      "outputs": [],
      "source": [
        "def gradiente_coniugato(A, b, x, tol):\n",
        "    charts= {\n",
        "        \"residual_chart\": [],\n",
        "        \"errrel_chart\": [],\n",
        "    }\n",
        "    niter = 0\n",
        "    new_vector = np.asarray([0]*len(x))\n",
        "    residual = b - A.dot(new_vector)\n",
        "    dir = residual.copy()\n",
        "    while np.linalg.norm(residual)/np.linalg.norm(b) >= tol and niter <= 20000:\n",
        "        y = A.dot(dir)\n",
        "        z = A.dot(residual)\n",
        "        ak = (np.dot(dir, residual)) / (np.dot(dir, y))\n",
        "        new_vector = new_vector + (ak * dir)\n",
        "        residual = b - A.dot(new_vector)\n",
        "        w = A.dot(residual)\n",
        "        bk = (np.dot(dir, w)) / (np.dot(dir, y))\n",
        "        dir = residual - (bk*dir)\n",
        "        charts[\"residual_chart\"].append(np.linalg.norm(residual)/np.linalg.norm(b))\n",
        "        charts[\"errrel_chart\"].append(relative_error(x, new_vector))\n",
        "        residual = b - A.dot(new_vector)\n",
        "        niter = niter + 1\n",
        "\n",
        "    if niter > 20000:\n",
        "        if np.linalg.norm(residual)/np.linalg.norm(b) >= tol:\n",
        "            print(\"superato il numero massimo di iterazioni\")\n",
        "    # Risultato\n",
        "    return charts\n"
      ]
    },
    {
      "cell_type": "code",
      "execution_count": null,
      "metadata": {},
      "outputs": [],
      "source": [
        "def jacobi(A, b, x, tol):\n",
        "    charts= {\n",
        "        \"residual_chart\": [],\n",
        "        \"errrel_chart\": [],\n",
        "    }\n",
        "    niter = 0\n",
        "    new_vector = np.asarray([0]*len(x))\n",
        "    inverted_p_matrix = 1/A.diagonal()\n",
        "    residual = b - A.dot(new_vector)\n",
        "    while np.linalg.norm(residual)/np.linalg.norm(b) >= tol and niter <= 20000:\n",
        "        new_vector = new_vector + (inverted_p_matrix * (residual))\n",
        "        charts[\"residual_chart\"].append(np.linalg.norm(residual)/np.linalg.norm(b))\n",
        "        charts[\"errrel_chart\"].append(relative_error(x, new_vector))\n",
        "        residual = b - A.dot(new_vector)\n",
        "        niter = niter + 1\n",
        "#    return {\"iter\": niter, \"err_rel\": relative_error(x, new_vector)}\n",
        "    if niter > 20000:\n",
        "        if np.linalg.norm(residual)/np.linalg.norm(b) >= tol:\n",
        "            print(\"superato il numero massimo di iterazioni\")\n",
        "    # Risultato\n",
        "    return charts"
      ]
    }
  ],
  "metadata": {
    "colab": {
      "provenance": []
    },
    "kernelspec": {
      "display_name": "base",
      "language": "python",
      "name": "python3"
    },
    "language_info": {
      "codemirror_mode": {
        "name": "ipython",
        "version": 3
      },
      "file_extension": ".py",
      "mimetype": "text/x-python",
      "name": "python",
      "nbconvert_exporter": "python",
      "pygments_lexer": "ipython3",
      "version": "3.6.5"
    }
  },
  "nbformat": 4,
  "nbformat_minor": 0
}
