{
  "cells": [
    {
      "attachments": {},
      "cell_type": "markdown",
      "metadata": {
        "id": "ZOVcR-_eUqBH"
      },
      "source": [
        "# Progetto MCS"
      ]
    },
    {
      "attachments": {},
      "cell_type": "markdown",
      "metadata": {
        "id": "Kqgg_EuHb2Fm"
      },
      "source": [
        "Per la gestione della struttura dati e le operazioni elementari fra matrici è richiesto di partire da una libreria open-source, come Eigen, Armadillo, blas/lapack. Oppure, qualora il linguaggio di programmazione lo permetta utilizzare vettori e matrici già implementate al suo interno.\n"
      ]
    },
    {
      "attachments": {},
      "cell_type": "markdown",
      "metadata": {
        "id": "Q-JhE2d4fZgT"
      },
      "source": [
        "## Data Import"
      ]
    },
    {
      "cell_type": "code",
      "execution_count": 1,
      "metadata": {
        "id": "g6jKR1Wk-Wqp"
      },
      "outputs": [],
      "source": [
        "import numpy as np\n",
        "from scipy.io import mmread\n",
        "from scipy.sparse import csr_matrix, csc_matrix, tril\n",
        "from scipy.sparse.linalg import spsolve_triangular"
      ]
    },
    {
      "cell_type": "code",
      "execution_count": 4,
      "metadata": {},
      "outputs": [],
      "source": [
        "data = {\n",
        "    \"spa1\" : 0,\n",
        "    \"spa2\" : 0,\n",
        "    \"vem1\" : 0,\n",
        "    \"vem2\" : 0}\n",
        "for x in data:\n",
        "    data[x] = {\n",
        "        \"A\" : mmread(\"data/\" + x + \".mtx\"),\n",
        "        \"x\" : 0,\n",
        "        \"b\" : 0,\n",
        "    }\n",
        "    data[x][\"A\"] = csr_matrix(data[x][\"A\"])\n",
        "    data[x][\"x\"] = np.array([1.0]*data[x][\"A\"].get_shape()[0])\n",
        "    data[x][\"b\"] = np.array(data[x][\"A\"].dot(data[x][\"x\"]))\n",
        "tols = [10**(-4), 10**(-6), 10**(-8), 10**(-10)]\n",
        "resTot = {}"
      ]
    },
    {
      "attachments": {},
      "cell_type": "markdown",
      "metadata": {},
      "source": [
        "# TODO\n",
        "### - Cosa che resituisca i tempi delle singole esecuzioni\n",
        "### - Errore assoluto (se serve)\n",
        "### - Grafici\n",
        "### - Metodo preliminare per i metodi che lo hanno (es. jacobi che dice subito se la matrice è risolvibile o meno )\n",
        "### - Fare file di python eseguibile\n",
        "### - Sistemare e capire come raggruppare il codice"
      ]
    },
    {
      "cell_type": "code",
      "execution_count": null,
      "metadata": {},
      "outputs": [],
      "source": [
        "#jacobi\n",
        "from jacoby_mcs import Jacoby\n",
        "ja = Jacoby()\n",
        "files_jacobi = {}\n",
        "for file in data:\n",
        "    jacobi_results=[]\n",
        "    for tol in tols:\n",
        "        jacobi_results.append(ja.execute(data[file][\"A\"], data[file][\"b\"], data[file][\"x\"], tol))\n",
        "    files_jacobi[file] = jacobi_results"
      ]
    },
    {
      "cell_type": "code",
      "execution_count": null,
      "metadata": {},
      "outputs": [],
      "source": [
        "files_jacobi"
      ]
    },
    {
      "cell_type": "code",
      "execution_count": null,
      "metadata": {},
      "outputs": [],
      "source": [
        "#gradiente_coniugato\n",
        "from gradiente_coniugato import GradC\n",
        "gc = GradC()\n",
        "files_gradC = {}\n",
        "for file in data:\n",
        "    gradC_results=[]\n",
        "    for tol in tols:\n",
        "        gradC_results.append(gc.execute(data[file][\"A\"], data[file][\"b\"], data[file][\"x\"], tol))\n",
        "    files_gradC[file] = gradC_results"
      ]
    },
    {
      "cell_type": "code",
      "execution_count": null,
      "metadata": {},
      "outputs": [],
      "source": [
        "files_gradC"
      ]
    },
    {
      "attachments": {},
      "cell_type": "markdown",
      "metadata": {
        "id": "_vLrCTow6pux"
      },
      "source": [
        "Condizione di arresto: $\\frac{||Ax^{(k)}-b||}{||b||}<tol$\n",
        "\n",
        "Reminder: \n",
        "\n",
        "1.   **Iniziare le iterazioni con il vettore x nullo**\n",
        "2.   **tol = [$10^{-4}, 10^{-6}, 10^{-8}, 10^{-10}]$**\n",
        "3.   **Dichiarare di non essere giunti a convergenza se k > maxiter dove maxiter lo scegliamo (>= 20000)**\n",
        "\n",
        "\n"
      ]
    },
    {
      "attachments": {},
      "cell_type": "markdown",
      "metadata": {
        "id": "U-gnxnUabWFc"
      },
      "source": [
        "## Metodo di Jacobi\n",
        "https://en.wikipedia.org/wiki/Jacobi_method"
      ]
    },
    {
      "cell_type": "code",
      "execution_count": null,
      "metadata": {},
      "outputs": [],
      "source": [
        "niter = 0\n",
        "new_vector = np.zeros(spa1.get_shape()[0])\n",
        "inverted_p_matrix = inv(np.diagflat(spa1.diagonal()))\n",
        "tol = 1e-4\n",
        "while True:\n",
        "    residual = spa1b - spa1.dot(new_vector)\n",
        "    new_vector = new_vector + (inverted_p_matrix.dot(residual))\n",
        "    niter = niter +1\n",
        "    if(np.linalg.norm(residual, ord=2)/np.linalg.norm(spa1b, ord=2) < tol or niter >= 20000):\n",
        "      break;\n",
        "print(niter)\n",
        "print(new_vector)"
      ]
    },
    {
      "cell_type": "code",
      "execution_count": null,
      "metadata": {},
      "outputs": [],
      "source": [
        "#jacobi secondo slide del prof\n",
        "niter = 0\n",
        "new_vector = np.asarray([0]*len(spa1x))\n",
        "inverted_p_matrix = 1/spa1.diagonal()\n",
        "tol = 10**(-4)\n",
        "residual = spa1b - spa1.dot(new_vector)\n",
        "while np.linalg.norm(residual)/np.linalg.norm(spa1b) >= tol and niter <= 20000:\n",
        "    new_vector = new_vector + (inverted_p_matrix * (residual))\n",
        "    residual = spa1b - spa1.dot(new_vector)\n",
        "    niter = niter +1\n",
        "    print(np.linalg.norm(residual)/np.linalg.norm(spa1b))"
      ]
    },
    {
      "attachments": {},
      "cell_type": "markdown",
      "metadata": {
        "id": "Ue8-VyjR9gop"
      },
      "source": [
        "### Errore relativo - numero iterazioni - tempo di calcolo"
      ]
    },
    {
      "cell_type": "code",
      "execution_count": null,
      "metadata": {
        "colab": {
          "base_uri": "https://localhost:8080/"
        },
        "id": "IYjbcvkM9n2v",
        "outputId": "61bf06d4-02f6-477f-8483-fd2c5373e03e"
      },
      "outputs": [],
      "source": [
        "#numero iterazioni\n",
        "niter"
      ]
    },
    {
      "cell_type": "code",
      "execution_count": null,
      "metadata": {
        "colab": {
          "base_uri": "https://localhost:8080/"
        },
        "id": "ib_ChPLXZv3n",
        "outputId": "1fc6b2d4-8085-4ebc-ae76-3d092abc623b"
      },
      "outputs": [],
      "source": [
        "#errore relativo\n",
        "(np.linalg.norm(np.subtract(new_vector, spa1x))/np.linalg.norm(spa1x))*100"
      ]
    },
    {
      "attachments": {},
      "cell_type": "markdown",
      "metadata": {},
      "source": [
        "## Metodo di Gauß-Seidel"
      ]
    },
    {
      "cell_type": "code",
      "execution_count": null,
      "metadata": {},
      "outputs": [],
      "source": [
        "## Parametri\n",
        "mtxA = data[\"vem2\"][\"A\"].copy()\n",
        "mtxP = tril(mtxA, format=\"csr\")\n",
        "max_iter = 20000\n",
        "vectB = data[\"vem2\"][\"b\"].copy()\n",
        "tol = tols[3]\n",
        "\n",
        "## Variabili\n",
        "k = 0\n",
        "vectX = np.zeros(mtxA.shape[0])\n",
        "residual = vectB - mtxA.dot(vectX)\n",
        "\n",
        "## Funzione\n",
        "while np.linalg.norm(residual)/np.linalg.norm(vectB) >= tol and k < max_iter:\n",
        "    k += 1\n",
        "    vectX = vectX + spsolve_triangular(mtxP,residual, lower = True)\n",
        "    residual = vectB - mtxA.dot(vectX)\n",
        "    \n",
        "    ## Stampe di controllo\n",
        "    if k%100 == 0:\n",
        "        print(k, end = \"\\t\")\n",
        "        if k%1000 == 0:\n",
        "            print()\n",
        "            print(np.linalg.norm(residual))\n",
        "            print(np.linalg.norm(residual)/np.linalg.norm(vectB))\n",
        "print(k)\n",
        "print(np.linalg.norm(residual))\n",
        "print(np.linalg.norm(residual)/np.linalg.norm(vectB))\n",
        "print(vectX)"
      ]
    },
    {
      "cell_type": "code",
      "execution_count": 13,
      "metadata": {},
      "outputs": [
        {
          "data": {
            "text/plain": [
              "{'Gauss-Seidel': {'spa1': [{'tol': 0.0001,\n",
              "    'nIter': 9,\n",
              "    'time': 123406,\n",
              "    'eRel': 0.018205942995187196},\n",
              "   {'tol': 1e-06, 'nIter': 17, 'time': 215015, 'eRel': 0.00012996939585682794},\n",
              "   {'tol': 1e-08, 'nIter': 24, 'time': 300610, 'eRel': 1.7097328980297061e-06},\n",
              "   {'tol': 1e-10,\n",
              "    'nIter': 31,\n",
              "    'time': 390670,\n",
              "    'eRel': 2.2480878407893218e-08}],\n",
              "  'spa2': [{'tol': 0.0001,\n",
              "    'nIter': 5,\n",
              "    'time': 224604,\n",
              "    'eRel': 0.0025988955874540125},\n",
              "   {'tol': 1e-06, 'nIter': 8, 'time': 341991, 'eRel': 5.1416412595323396e-05},\n",
              "   {'tol': 1e-08, 'nIter': 12, 'time': 500760, 'eRel': 2.794322031500866e-07},\n",
              "   {'tol': 1e-10, 'nIter': 15, 'time': 623280, 'eRel': 5.570741310161321e-09}],\n",
              "  'vem1': [{'tol': 0.0001,\n",
              "    'nIter': 659,\n",
              "    'time': 13070241,\n",
              "    'eRel': 0.0035069725970329874},\n",
              "   {'tol': 1e-06,\n",
              "    'nIter': 1218,\n",
              "    'time': 24522241,\n",
              "    'eRel': 3.5266968493658966e-05},\n",
              "   {'tol': 1e-08,\n",
              "    'nIter': 1778,\n",
              "    'time': 35187753,\n",
              "    'eRel': 3.517456996804461e-07},\n",
              "   {'tol': 1e-10,\n",
              "    'nIter': 2338,\n",
              "    'time': 46264595,\n",
              "    'eRel': 3.5082423225436865e-09}],\n",
              "  'vem2': [{'tol': 0.0001,\n",
              "    'nIter': 965,\n",
              "    'time': 29574105,\n",
              "    'eRel': 0.004951189291546085},\n",
              "   {'tol': 1e-06,\n",
              "    'nIter': 1840,\n",
              "    'time': 56337575,\n",
              "    'eRel': 4.941761268248799e-05},\n",
              "   {'tol': 1e-08,\n",
              "    'nIter': 2714,\n",
              "    'time': 92878130,\n",
              "    'eRel': 4.958369689706862e-07},\n",
              "   {'tol': 1e-10,\n",
              "    'nIter': 3589,\n",
              "    'time': 110578991,\n",
              "    'eRel': 4.948912856957899e-09}]},\n",
              " 'Gradiente': {'spa1': [{'tol': 0.0001,\n",
              "    'nIter': 143,\n",
              "    'time': 60832,\n",
              "    'eRel': 0.034574700773010995},\n",
              "   {'tol': 1e-06,\n",
              "    'nIter': 3577,\n",
              "    'time': 1118816,\n",
              "    'eRel': 0.0009680457310489335},\n",
              "   {'tol': 1e-08,\n",
              "    'nIter': 8233,\n",
              "    'time': 2575052,\n",
              "    'eRel': 9.816363743569979e-06},\n",
              "   {'tol': 1e-10,\n",
              "    'nIter': 12919,\n",
              "    'time': 4032552,\n",
              "    'eRel': 9.82038739991659e-08}],\n",
              "  'spa2': [{'tol': 0.0001,\n",
              "    'nIter': 161,\n",
              "    'time': 490566,\n",
              "    'eRel': 0.018129645117112476},\n",
              "   {'tol': 1e-06,\n",
              "    'nIter': 1949,\n",
              "    'time': 5916048,\n",
              "    'eRel': 0.0006694229253914274},\n",
              "   {'tol': 1e-08,\n",
              "    'nIter': 5087,\n",
              "    'time': 15451651,\n",
              "    'eRel': 6.865240127639434e-06},\n",
              "   {'tol': 1e-10,\n",
              "    'nIter': 8285,\n",
              "    'time': 25076220,\n",
              "    'eRel': 6.937814961776908e-08}],\n",
              "  'vem1': [{'tol': 0.0001,\n",
              "    'nIter': 890,\n",
              "    'time': 144190,\n",
              "    'eRel': 0.0027045724093632084},\n",
              "   {'tol': 1e-06,\n",
              "    'nIter': 1612,\n",
              "    'time': 261274,\n",
              "    'eRel': 2.713339183172847e-05},\n",
              "   {'tol': 1e-08,\n",
              "    'nIter': 2336,\n",
              "    'time': 378302,\n",
              "    'eRel': 2.6953373698584196e-07},\n",
              "   {'tol': 1e-10,\n",
              "    'nIter': 3058,\n",
              "    'time': 494894,\n",
              "    'eRel': 2.7131672223395493e-09}],\n",
              "  'vem2': [{'tol': 0.0001,\n",
              "    'nIter': 1308,\n",
              "    'time': 312443,\n",
              "    'eRel': 0.0038119295293960343},\n",
              "   {'tol': 1e-06, 'nIter': 2438, 'time': 588763, 'eRel': 3.79141897828625e-05},\n",
              "   {'tol': 1e-08,\n",
              "    'nIter': 3566,\n",
              "    'time': 857836,\n",
              "    'eRel': 3.8098506263145486e-07},\n",
              "   {'tol': 1e-10,\n",
              "    'nIter': 4696,\n",
              "    'time': 1122068,\n",
              "    'eRel': 3.7987689382940375e-09}]}}"
            ]
          },
          "execution_count": 13,
          "metadata": {},
          "output_type": "execute_result"
        }
      ],
      "source": [
        "import gauss_seidel as gs\n",
        "metod = \"Gauss-Seidel\"\n",
        "resTot[metod] = {}\n",
        "for el in data:\n",
        "    resTot[metod][el] = []\n",
        "    for tol in tols:\n",
        "        res = gs.solve(mtxA=data[el][\"A\"], vectB=data[el][\"b\"], tol=tol, vectX=data[el][\"x\"])\n",
        "        resTot[metod][el].append({\n",
        "            \"tol\" : tol,\n",
        "            \"nIter\" : res[\"nIter\"],\n",
        "            \"time\" : res[\"time\"],\n",
        "            \"eRel\" : res[\"eRel\"] \n",
        "        })\n",
        "\n",
        "resTot"
      ]
    },
    {
      "attachments": {},
      "cell_type": "markdown",
      "metadata": {
        "id": "ANbpDWkobi2n"
      },
      "source": [
        "## Metodo del Gradiente\n"
      ]
    },
    {
      "attachments": {},
      "cell_type": "markdown",
      "metadata": {},
      "source": [
        "1. $r^{(k)} = b -Ax^{(k)}$\n",
        "2. $y^{(k)} = Ar^{(k)}$\n",
        "3. $a = (r^{(k)})^tr^{(k)}$\n",
        "4. $b = (r^{(k)})^ty^{(k)}$\n",
        "5. $\\alpha_k = a/b$\n",
        "6. $x^{(k+1)} = r^{(k)} \\alpha_kr^{(k)}$"
      ]
    },
    {
      "cell_type": "code",
      "execution_count": null,
      "metadata": {
        "id": "LCmCpXWFbwLO"
      },
      "outputs": [],
      "source": [
        "# Parametri\n",
        "mtxA = data[\"spa1\"][\"A\"].copy()\n",
        "max_iter = 20000\n",
        "vectB = data[\"spa1\"][\"b\"].copy()\n",
        "tol = tols[0]\n",
        "\n",
        "# Variabili\n",
        "k = 0\n",
        "vectX = np.zeros(mtxA.shape[0])\n",
        "residual = vectB - mtxA.dot(vectX)\n",
        "\n",
        "# Funzione\n",
        "while np.linalg.norm(residual)/np.linalg.norm(vectB) >= tol and k < max_iter:\n",
        "    k += 1\n",
        "\n",
        "    y = mtxA.dot(residual)\n",
        "    a = residual.T.dot(residual)\n",
        "    b = residual.T.dot(y)\n",
        "    alpha = a/b\n",
        "\n",
        "    vectX = vectX + alpha * residual\n",
        "\n",
        "    ## Compressed version\n",
        "    #vectX = vectX + (residual.T.dot(residual) / residual.T.dot(mtxA.dot(residual))) * residual\n",
        "\n",
        "    residual = vectB - mtxA.dot(vectX)\n",
        "\n",
        "    # Stampe di controllo\n",
        "    if k%100 == 0:\n",
        "        print(k, end = \"\\t\")\n",
        "        if k%1000 == 0:\n",
        "            print()\n",
        "            print(np.linalg.norm(residual))\n",
        "            print(np.linalg.norm(residual)/np.linalg.norm(vectB))\n",
        "print(k)\n",
        "print(np.linalg.norm(residual))\n",
        "print(np.linalg.norm(residual)/np.linalg.norm(vectB))\n",
        "print(vectX)\n"
      ]
    },
    {
      "cell_type": "code",
      "execution_count": 12,
      "metadata": {},
      "outputs": [
        {
          "data": {
            "text/plain": [
              "{'Gauss-Seidel': {'spa1': [{'tol': 1e-10,\n",
              "    'nIter': 31,\n",
              "    'time': 401173,\n",
              "    'eRel': 2.2480878407893218e-08}],\n",
              "  'spa2': [{'tol': 1e-10,\n",
              "    'nIter': 15,\n",
              "    'time': 628712,\n",
              "    'eRel': 5.570741310161321e-09}],\n",
              "  'vem1': [{'tol': 1e-10,\n",
              "    'nIter': 2338,\n",
              "    'time': 46620615,\n",
              "    'eRel': 3.5082423225436865e-09}],\n",
              "  'vem2': [{'tol': 1e-10,\n",
              "    'nIter': 3589,\n",
              "    'time': 112490971,\n",
              "    'eRel': 4.948912856957899e-09}]},\n",
              " 'Gradiente': {'spa1': [{'tol': 0.0001,\n",
              "    'nIter': 143,\n",
              "    'time': 60832,\n",
              "    'eRel': 0.034574700773010995},\n",
              "   {'tol': 1e-06,\n",
              "    'nIter': 3577,\n",
              "    'time': 1118816,\n",
              "    'eRel': 0.0009680457310489335},\n",
              "   {'tol': 1e-08,\n",
              "    'nIter': 8233,\n",
              "    'time': 2575052,\n",
              "    'eRel': 9.816363743569979e-06},\n",
              "   {'tol': 1e-10,\n",
              "    'nIter': 12919,\n",
              "    'time': 4032552,\n",
              "    'eRel': 9.82038739991659e-08}],\n",
              "  'spa2': [{'tol': 0.0001,\n",
              "    'nIter': 161,\n",
              "    'time': 490566,\n",
              "    'eRel': 0.018129645117112476},\n",
              "   {'tol': 1e-06,\n",
              "    'nIter': 1949,\n",
              "    'time': 5916048,\n",
              "    'eRel': 0.0006694229253914274},\n",
              "   {'tol': 1e-08,\n",
              "    'nIter': 5087,\n",
              "    'time': 15451651,\n",
              "    'eRel': 6.865240127639434e-06},\n",
              "   {'tol': 1e-10,\n",
              "    'nIter': 8285,\n",
              "    'time': 25076220,\n",
              "    'eRel': 6.937814961776908e-08}],\n",
              "  'vem1': [{'tol': 0.0001,\n",
              "    'nIter': 890,\n",
              "    'time': 144190,\n",
              "    'eRel': 0.0027045724093632084},\n",
              "   {'tol': 1e-06,\n",
              "    'nIter': 1612,\n",
              "    'time': 261274,\n",
              "    'eRel': 2.713339183172847e-05},\n",
              "   {'tol': 1e-08,\n",
              "    'nIter': 2336,\n",
              "    'time': 378302,\n",
              "    'eRel': 2.6953373698584196e-07},\n",
              "   {'tol': 1e-10,\n",
              "    'nIter': 3058,\n",
              "    'time': 494894,\n",
              "    'eRel': 2.7131672223395493e-09}],\n",
              "  'vem2': [{'tol': 0.0001,\n",
              "    'nIter': 1308,\n",
              "    'time': 312443,\n",
              "    'eRel': 0.0038119295293960343},\n",
              "   {'tol': 1e-06, 'nIter': 2438, 'time': 588763, 'eRel': 3.79141897828625e-05},\n",
              "   {'tol': 1e-08,\n",
              "    'nIter': 3566,\n",
              "    'time': 857836,\n",
              "    'eRel': 3.8098506263145486e-07},\n",
              "   {'tol': 1e-10,\n",
              "    'nIter': 4696,\n",
              "    'time': 1122068,\n",
              "    'eRel': 3.7987689382940375e-09}]}}"
            ]
          },
          "execution_count": 12,
          "metadata": {},
          "output_type": "execute_result"
        }
      ],
      "source": [
        "import gradiente as gr\n",
        "\n",
        "metod = \"Gradiente\"\n",
        "resTot[metod] = {}\n",
        "for el in data:\n",
        "    resTot[metod][el] = []\n",
        "    for tol in tols:\n",
        "        res = gr.solve(mtxA=data[el][\"A\"], vectB=data[el][\"b\"], tol=tol, vectX=data[el][\"x\"])\n",
        "        resTot[metod][el].append({\n",
        "            \"tol\" : tol,\n",
        "            \"nIter\" : res[\"nIter\"],\n",
        "            \"time\" : res[\"time\"],\n",
        "            \"eRel\" : res[\"eRel\"] \n",
        "        })\n",
        "resTot"
      ]
    },
    {
      "attachments": {},
      "cell_type": "markdown",
      "metadata": {
        "id": "a_6ydPtybq1C"
      },
      "source": [
        "## Metodo del Gradiente coniugato\n",
        "\n",
        "- Un vettore ottimale rispetto a una direzione d se d*r(k)=0\n",
        "- x(k+1) è ottimale rispetto a r(k+1)\n",
        "- x(k+1) = x(k) + a(k)d(k)\n",
        "- a(k) = ( d(k)^t * r(k) ) / ( d(k)^t * Ad(k) )\n",
        "- d(k+1) = r(k+1) - b(k)*d(k)\n",
        "- b(k) = ( d(k)^t * Ar(k+1) ) / ( d(k)^t * Ad(k) )\n",
        "\n"
      ]
    },
    {
      "cell_type": "code",
      "execution_count": null,
      "metadata": {},
      "outputs": [],
      "source": [
        "#gradiente coniugato\n",
        "#capire se in ak e bk bisogna calcolare la derivata di dir\n",
        "niter = 0\n",
        "new_vector = np.asarray([0]*len(spa1x))\n",
        "tol = 10**(-4)\n",
        "residual = spa1b - spa1.dot(new_vector)\n",
        "dir = residual.copy()\n",
        "while np.linalg.norm(residual)/np.linalg.norm(spa1b) >= tol and niter <= 20000:\n",
        "    #r = spa1b - spa1.dot(new_vector)\n",
        "    y = spa1.dot(dir)\n",
        "    z = spa1.dot(residual)\n",
        "    ak = (np.dot(dir, residual)) / (np.dot(dir, y))\n",
        "    new_vector = new_vector + (ak * dir)\n",
        "    residual = spa1b - spa1.dot(new_vector)\n",
        "    w = spa1.dot(residual)\n",
        "    bk = (np.dot(dir, w)) / (np.dot(dir, y))\n",
        "    dir = residual - (bk*dir)\n",
        "\n",
        "    residual = spa1b - spa1.dot(new_vector)\n",
        "    niter = niter + 1"
      ]
    },
    {
      "cell_type": "code",
      "execution_count": null,
      "metadata": {},
      "outputs": [],
      "source": [
        "niter"
      ]
    },
    {
      "cell_type": "code",
      "execution_count": null,
      "metadata": {},
      "outputs": [],
      "source": [
        "np.linalg.norm(np.subtract(new_vector, spa1x))/np.linalg.norm(spa1b)"
      ]
    }
  ],
  "metadata": {
    "colab": {
      "provenance": []
    },
    "kernelspec": {
      "display_name": "base",
      "language": "python",
      "name": "python3"
    },
    "language_info": {
      "codemirror_mode": {
        "name": "ipython",
        "version": 3
      },
      "file_extension": ".py",
      "mimetype": "text/x-python",
      "name": "python",
      "nbconvert_exporter": "python",
      "pygments_lexer": "ipython3",
      "version": "3.8.2"
    }
  },
  "nbformat": 4,
  "nbformat_minor": 0
}
