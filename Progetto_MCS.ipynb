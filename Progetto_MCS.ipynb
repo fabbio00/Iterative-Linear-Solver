{
  "cells": [
    {
      "attachments": {},
      "cell_type": "markdown",
      "metadata": {
        "id": "ZOVcR-_eUqBH"
      },
      "source": [
        "# Progetto MCS"
      ]
    },
    {
      "attachments": {},
      "cell_type": "markdown",
      "metadata": {
        "id": "Kqgg_EuHb2Fm"
      },
      "source": [
        "Per la gestione della struttura dati e le operazioni elementari fra matrici è richiesto di partire da una libreria open-source, come Eigen, Armadillo, blas/lapack. Oppure, qualora il linguaggio di programmazione lo permetta utilizzare vettori e matrici già implementate al suo interno.\n"
      ]
    },
    {
      "attachments": {},
      "cell_type": "markdown",
      "metadata": {
        "id": "Q-JhE2d4fZgT"
      },
      "source": [
        "## Data Import"
      ]
    },
    {
      "attachments": {},
      "cell_type": "markdown",
      "metadata": {},
      "source": [
        "Impotazione delle librerie necessarie"
      ]
    },
    {
      "cell_type": "code",
      "execution_count": null,
      "metadata": {
        "id": "g6jKR1Wk-Wqp"
      },
      "outputs": [],
      "source": [
        "import numpy as np\n",
        "from scipy.io import mmread\n",
        "from scipy.sparse import csr_matrix, tril\n",
        "from scipy.sparse.linalg import spsolve_triangular"
      ]
    },
    {
      "attachments": {},
      "cell_type": "markdown",
      "metadata": {},
      "source": [
        "Recupero dei dati"
      ]
    },
    {
      "cell_type": "code",
      "execution_count": null,
      "metadata": {},
      "outputs": [],
      "source": [
        "data = {\n",
        "    \"spa1\" : 0,\n",
        "    \"spa2\" : 0,\n",
        "    \"vem1\" : 0,\n",
        "    \"vem2\" : 0}\n",
        "for x in data:\n",
        "    data[x] = {\n",
        "        \"A\" : mmread(\"data/\" + x + \".mtx\").tocsr(),\n",
        "        \"x\" : 0,\n",
        "        \"b\" : 0,\n",
        "    }\n",
        "    data[x][\"x\"] = np.array([1.0]*data[x][\"A\"].get_shape()[0])\n",
        "    data[x][\"b\"] = np.array(data[x][\"A\"].dot(data[x][\"x\"]))\n",
        "resTot = {}"
      ]
    },
    {
      "attachments": {},
      "cell_type": "markdown",
      "metadata": {},
      "source": [
        "Tolleranze e metodi"
      ]
    },
    {
      "cell_type": "code",
      "execution_count": null,
      "metadata": {},
      "outputs": [],
      "source": [
        "## Tolleranze\n",
        "tols = [10**(-4), 10**(-6), 10**(-8), 10**(-10)]\n",
        "\n",
        "## Metodi\n",
        "metods = [\"Jacoby\", \"Gauss-Seidel\", \"Gradiente\", \"Gradiente Coniugato\"]"
      ]
    },
    {
      "attachments": {},
      "cell_type": "markdown",
      "metadata": {},
      "source": [
        "Dizionario contente le classi risolutrici"
      ]
    },
    {
      "cell_type": "code",
      "execution_count": null,
      "metadata": {},
      "outputs": [],
      "source": [
        "import jacoby_mcs as ja\n",
        "import gauss_seidel as gs\n",
        "import gradiente as gr\n",
        "import gradiente_coniugato as grc\n",
        "\n",
        "solver = {}\n",
        "solver[\"Jacoby\"] = ja\n",
        "solver[\"Gauss-Seidel\"] = gs\n",
        "solver[\"Gradiente\"] = gr\n",
        "solver[\"Gradiente Coniugato\"] = grc"
      ]
    },
    {
      "attachments": {},
      "cell_type": "markdown",
      "metadata": {
        "id": "_vLrCTow6pux"
      },
      "source": [
        "Condizione di arresto: $\\frac{||Ax^{(k)}-b||}{||b||}<tol$\n",
        "\n",
        "Reminder: \n",
        "\n",
        "1.   **Iniziare le iterazioni con il vettore x nullo**\n",
        "2.   **tol = [$10^{-4}, 10^{-6}, 10^{-8}, 10^{-10}]$**\n",
        "3.   **Dichiarare di non essere giunti a convergenza se k > maxiter dove maxiter lo scegliamo (>= 20000)**\n",
        "\n",
        "\n"
      ]
    },
    {
      "attachments": {},
      "cell_type": "markdown",
      "metadata": {},
      "source": [
        "### Grafici e informazioni sulle matrici"
      ]
    },
    {
      "attachments": {},
      "cell_type": "markdown",
      "metadata": {},
      "source": [
        "Impostazione dei grafici"
      ]
    },
    {
      "cell_type": "code",
      "execution_count": null,
      "metadata": {},
      "outputs": [],
      "source": [
        "import matplotlib.pylab as plt\n",
        "plt.style.use('seaborn')\n",
        "plt.rcParams['figure.figsize'] = [15, 18]\n",
        "plt.rcParams['figure.dpi'] = 100"
      ]
    },
    {
      "attachments": {},
      "cell_type": "markdown",
      "metadata": {},
      "source": [
        "Grafici delle matrici"
      ]
    },
    {
      "cell_type": "code",
      "execution_count": null,
      "metadata": {},
      "outputs": [],
      "source": [
        "i = 221\n",
        "for mt in data:\n",
        "    plt.subplot(i)\n",
        "    plt.spy(data[mt][\"A\"], markersize = 0.1)\n",
        "    plt.title(\"Matrice \" + mt, fontsize = 18 )\n",
        "    i += 1"
      ]
    },
    {
      "attachments": {},
      "cell_type": "markdown",
      "metadata": {},
      "source": [
        "info sulle matrici"
      ]
    },
    {
      "cell_type": "code",
      "execution_count": null,
      "metadata": {},
      "outputs": [],
      "source": [
        "for mt in data:\n",
        "    den = str(round((100 * data[mt][\"A\"].nnz) / (data[mt][\"A\"].shape[0]*data[mt][\"A\"].shape[1]), 2))\n",
        "    print(\"La matrice \" + mt + \" è una matrice \" + str(data[mt][\"A\"].shape[0]) + \"x\" + str(data[mt][\"A\"].shape[1]) + \", contiene \" + str(data[mt][\"A\"].nnz) + \" elementi diversi da 0 ed è quindi densa del \" + den + \"%\")"
      ]
    },
    {
      "attachments": {},
      "cell_type": "markdown",
      "metadata": {},
      "source": [
        "### Grafico del residuo"
      ]
    },
    {
      "cell_type": "code",
      "execution_count": null,
      "metadata": {},
      "outputs": [],
      "source": [
        "#PRIMA DI ESEGUIRLO CHIAMARE LE FUNZIONI IN FONDO\n",
        "charts_results = {}\n",
        "metods = {\n",
        "    'jacobi': jacobi,\n",
        "    'gauss_seidel': gauss_seidel,\n",
        "    'gradiente': gradiente,\n",
        "    'gradiente_coniugato': gradiente_coniugato\n",
        "}\n",
        "for metod in metods:    \n",
        "    charts_results[metod] = {}\n",
        "    for el in data:\n",
        "        charts_results[metod][el] = []\n",
        "        for tol in tols:\n",
        "            chart_result = metods[metod](data[el][\"A\"], data[el][\"b\"], data[el][\"x\"], tol)\n",
        "            charts_results[metod][el].append(chart_result)\n",
        "charts_results\n",
        "\n"
      ]
    },
    {
      "cell_type": "code",
      "execution_count": null,
      "metadata": {},
      "outputs": [],
      "source": [
        "for chart in charts_results['jacobi']['spa1']:\n",
        "    plt.plot(chart[\"errrel_chart\"], 'o')\n",
        "    print(len(chart[\"errrel_chart\"]))\n",
        "    plt.show()"
      ]
    },
    {
      "attachments": {},
      "cell_type": "markdown",
      "metadata": {},
      "source": []
    },
    {
      "attachments": {},
      "cell_type": "markdown",
      "metadata": {
        "id": "U-gnxnUabWFc"
      },
      "source": [
        "## Metodo di Jacobi"
      ]
    },
    {
      "cell_type": "code",
      "execution_count": null,
      "metadata": {},
      "outputs": [],
      "source": [
        "import jacoby_mcs as ja\n",
        "metod = \"Jacoby\"\n",
        "resTot = {}\n",
        "resTot[metod] = {}\n",
        "for el in data:\n",
        "    resTot[metod][el] = []\n",
        "    for tol in tols:\n",
        "        res = ja.solve(data[el][\"A\"], data[el][\"b\"], data[el][\"x\"], tol)\n",
        "        resTot[metod][el].append({\n",
        "            \"tol\" : tol,\n",
        "            \"nIter\" : res[\"nIter\"],\n",
        "            \"time\" : res[\"time\"],\n",
        "            \"eRel\" : res[\"eRel\"] \n",
        "        })\n",
        "\n",
        "resTot"
      ]
    },
    {
      "attachments": {},
      "cell_type": "markdown",
      "metadata": {},
      "source": [
        "## Metodo di Gauß-Seidel"
      ]
    },
    {
      "cell_type": "code",
      "execution_count": null,
      "metadata": {},
      "outputs": [],
      "source": [
        "import gauss_seidel as gs\n",
        "metod = \"Gauss-Seidel\"\n",
        "resTot[metod] = {}\n",
        "for el in data:\n",
        "    resTot[metod][el] = []\n",
        "    for tol in tols:\n",
        "        res = gs.solve(mtxA=data[el][\"A\"], vectB=data[el][\"b\"], tol=tol, vectX=data[el][\"x\"])\n",
        "        resTot[metod][el].append({\n",
        "            \"tol\" : tol,\n",
        "            \"nIter\" : res[\"nIter\"],\n",
        "            \"time\" : res[\"time\"],\n",
        "            \"eRel\" : res[\"eRel\"] \n",
        "        })\n",
        "\n",
        "resTot"
      ]
    },
    {
      "attachments": {},
      "cell_type": "markdown",
      "metadata": {
        "id": "ANbpDWkobi2n"
      },
      "source": [
        "## Metodo del Gradiente\n"
      ]
    },
    {
      "attachments": {},
      "cell_type": "markdown",
      "metadata": {},
      "source": [
        "1. $r^{(k)} = b -Ax^{(k)}$\n",
        "2. $y^{(k)} = Ar^{(k)}$\n",
        "3. $a = (r^{(k)})^tr^{(k)}$\n",
        "4. $b = (r^{(k)})^ty^{(k)}$\n",
        "5. $\\alpha_k = a/b$\n",
        "6. $x^{(k+1)} = r^{(k)} \\alpha_kr^{(k)}$"
      ]
    },
    {
      "cell_type": "code",
      "execution_count": null,
      "metadata": {},
      "outputs": [],
      "source": [
        "import gradiente as gr\n",
        "\n",
        "metod = \"Gradiente\"\n",
        "solver = {}\n",
        "solver[metod] = gr\n",
        "resTot[metod] = {}\n",
        "for el in data:\n",
        "    resTot[metod][el] = []\n",
        "    for tol in tols:\n",
        "        res = solver[metod].solve(mtxA=data[el][\"A\"], vectB=data[el][\"b\"], tol=tol, vectX=data[el][\"x\"])\n",
        "        resTot[metod][el].append({\n",
        "            \"tol\" : tol,\n",
        "            \"nIter\" : res[\"nIter\"],\n",
        "            \"time\" : res[\"time\"],\n",
        "            \"eRel\" : res[\"eRel\"] \n",
        "        })\n",
        "resTot"
      ]
    },
    {
      "attachments": {},
      "cell_type": "markdown",
      "metadata": {
        "id": "a_6ydPtybq1C"
      },
      "source": [
        "## Metodo del Gradiente coniugato\n",
        "\n",
        "- Un vettore ottimale rispetto a una direzione d se d*r(k)=0\n",
        "- x(k+1) è ottimale rispetto a r(k+1)\n",
        "- x(k+1) = x(k) + a(k)d(k)\n",
        "- a(k) = ( d(k)^t * r(k) ) / ( d(k)^t * Ad(k) )\n",
        "- d(k+1) = r(k+1) - b(k)*d(k)\n",
        "- b(k) = ( d(k)^t * Ar(k+1) ) / ( d(k)^t * Ad(k) )\n",
        "\n"
      ]
    },
    {
      "cell_type": "code",
      "execution_count": null,
      "metadata": {},
      "outputs": [],
      "source": [
        "import gradiente_coniugato as grc\n",
        "metod = \"Gradiente Coniugato\"\n",
        "resTot = {}\n",
        "resTot[metod] = {}\n",
        "for el in data:\n",
        "    resTot[metod][el] = []\n",
        "    for tol in tols:\n",
        "        res = grc.solve(data[el][\"A\"], data[el][\"b\"], data[el][\"x\"], tol)\n",
        "        resTot[metod][el].append({\n",
        "            \"tol\" : tol,\n",
        "            \"nIter\" : res[\"nIter\"],\n",
        "            \"time\" : res[\"time\"],\n",
        "            \"eRel\" : res[\"eRel\"] \n",
        "        })\n",
        "\n",
        "resTot"
      ]
    },
    {
      "attachments": {},
      "cell_type": "markdown",
      "metadata": {},
      "source": [
        "## Risultati totali"
      ]
    },
    {
      "cell_type": "code",
      "execution_count": null,
      "metadata": {},
      "outputs": [],
      "source": [
        "resTot = {}\n",
        "for metod in solver:    \n",
        "    resTot[metod] = {}\n",
        "    for el in data:\n",
        "        resTot[metod][el] = []\n",
        "        for tol in tols:\n",
        "            res = solver[metod].solve(mtxA=data[el][\"A\"], vectB=data[el][\"b\"], tol=tol, vectX=data[el][\"x\"])\n",
        "            resTot[metod][el].append({\n",
        "                \"tol\" : tol,\n",
        "                \"nIter\" : res[\"nIter\"],\n",
        "                \"time\" : res[\"time\"],\n",
        "                \"eRel\" : res[\"eRel\"] \n",
        "            })\n",
        "resTot"
      ]
    },
    {
      "attachments": {},
      "cell_type": "markdown",
      "metadata": {},
      "source": [
        "## FUNZIONI DEI FILE COMODE QUA PER IL NOTEBOOK"
      ]
    },
    {
      "cell_type": "code",
      "execution_count": null,
      "metadata": {},
      "outputs": [],
      "source": [
        "def relative_error(x, xk1):\n",
        "    return np.linalg.norm(np.subtract(xk1, x))/np.linalg.norm(x)"
      ]
    },
    {
      "cell_type": "code",
      "execution_count": null,
      "metadata": {},
      "outputs": [],
      "source": [
        "def gradiente(mtxA, vectB, vectX, tol):\n",
        "    charts= {\n",
        "        \"residual_chart\": [],\n",
        "        \"errrel_chart\": [],\n",
        "    }\n",
        "    # Variabili\n",
        "    k = 0\n",
        "    vectX1 = np.zeros(mtxA.shape[0])\n",
        "    residual = vectB - mtxA.dot(vectX1)\n",
        "\n",
        "    # Funzione\n",
        "    while np.linalg.norm(residual)/np.linalg.norm(vectB) >= tol and k <= 20000:\n",
        "        k += 1\n",
        "        y = mtxA.dot(residual)\n",
        "        a = residual.T.dot(residual)\n",
        "        b = residual.T.dot(y)\n",
        "        alpha = a/b\n",
        "\n",
        "        vectX1 = vectX1 + alpha * residual\n",
        "        charts[\"residual_chart\"].append(residual)\n",
        "        charts[\"errrel_chart\"].append(relative_error(vectX, vectX1))\n",
        "        residual = vectB - mtxA.dot(vectX1)\n",
        "    if k > 20000:\n",
        "        if np.linalg.norm(residual)/np.linalg.norm(vectB) >= tol:\n",
        "            print(\"superato il numero massimo di iterazioni\")\n",
        "    # Risultato\n",
        "    return charts"
      ]
    },
    {
      "cell_type": "code",
      "execution_count": null,
      "metadata": {},
      "outputs": [],
      "source": [
        "def gauss_seidel(mtxA, vectB, vectX, tol):\n",
        "    # Variabili\n",
        "    charts= {\n",
        "        \"residual_chart\": [],\n",
        "        \"errrel_chart\": [],\n",
        "    }\n",
        "    maxIter = 20000\n",
        "    mtxP = tril(mtxA, format=\"csr\")\n",
        "    k = 0\n",
        "    vectX1 = np.zeros(mtxA.shape[0])\n",
        "    residual = vectB - mtxA.dot(vectX1)\n",
        "\n",
        "    # Funzione\n",
        "    while np.linalg.norm(residual)/np.linalg.norm(vectB) >= tol and k <= maxIter:\n",
        "        k += 1\n",
        "        vectX1 = vectX1 + spsolve_triangular(mtxP, residual, lower=True)\n",
        "        charts[\"residual_chart\"].append(residual)\n",
        "        charts[\"errrel_chart\"].append(relative_error(vectX, vectX1))\n",
        "        residual = vectB - mtxA.dot(vectX1)\n",
        "\n",
        "    if k > 20000:\n",
        "        if np.linalg.norm(residual)/np.linalg.norm(vectB) > tol:\n",
        "            print(\"superato il numero massimo di iterazioni\")\n",
        "    # Risultato\n",
        "    return charts"
      ]
    },
    {
      "cell_type": "code",
      "execution_count": null,
      "metadata": {},
      "outputs": [],
      "source": [
        "def gradiente_coniugato(A, b, x, tol):\n",
        "    charts= {\n",
        "        \"residual_chart\": [],\n",
        "        \"errrel_chart\": [],\n",
        "    }\n",
        "    niter = 0\n",
        "    new_vector = np.asarray([0]*len(x))\n",
        "    residual = b - A.dot(new_vector)\n",
        "    dir = residual.copy()\n",
        "    while np.linalg.norm(residual)/np.linalg.norm(b) >= tol and niter <= 20000:\n",
        "        y = A.dot(dir)\n",
        "        z = A.dot(residual)\n",
        "        ak = (np.dot(dir, residual)) / (np.dot(dir, y))\n",
        "        new_vector = new_vector + (ak * dir)\n",
        "        residual = b - A.dot(new_vector)\n",
        "        w = A.dot(residual)\n",
        "        bk = (np.dot(dir, w)) / (np.dot(dir, y))\n",
        "        dir = residual - (bk*dir)\n",
        "        charts[\"residual_chart\"].append(residual)\n",
        "        charts[\"errrel_chart\"].append(relative_error(x, new_vector))\n",
        "        residual = b - A.dot(new_vector)\n",
        "        niter = niter + 1\n",
        "\n",
        "    if niter > 20000:\n",
        "        if np.linalg.norm(residual)/np.linalg.norm(b) >= tol:\n",
        "            print(\"superato il numero massimo di iterazioni\")\n",
        "    # Risultato\n",
        "    return charts\n"
      ]
    },
    {
      "cell_type": "code",
      "execution_count": null,
      "metadata": {},
      "outputs": [],
      "source": [
        "def jacobi(A, b, x, tol):\n",
        "    charts= {\n",
        "        \"residual_chart\": [],\n",
        "        \"errrel_chart\": [],\n",
        "    }\n",
        "    niter = 0\n",
        "    new_vector = np.asarray([0]*len(x))\n",
        "    inverted_p_matrix = 1/A.diagonal()\n",
        "    residual = b - A.dot(new_vector)\n",
        "    while np.linalg.norm(residual)/np.linalg.norm(b) >= tol and niter <= 20000:\n",
        "        new_vector = new_vector + (inverted_p_matrix * (residual))\n",
        "        charts[\"residual_chart\"].append(residual)\n",
        "        charts[\"errrel_chart\"].append(relative_error(x, new_vector))\n",
        "        residual = b - A.dot(new_vector)\n",
        "        niter = niter + 1\n",
        "#    return {\"iter\": niter, \"err_rel\": relative_error(x, new_vector)}\n",
        "    if niter > 20000:\n",
        "        if np.linalg.norm(residual)/np.linalg.norm(b) >= tol:\n",
        "            print(\"superato il numero massimo di iterazioni\")\n",
        "    # Risultato\n",
        "    return charts"
      ]
    }
  ],
  "metadata": {
    "colab": {
      "provenance": []
    },
    "kernelspec": {
      "display_name": "base",
      "language": "python",
      "name": "python3"
    },
    "language_info": {
      "codemirror_mode": {
        "name": "ipython",
        "version": 3
      },
      "file_extension": ".py",
      "mimetype": "text/x-python",
      "name": "python",
      "nbconvert_exporter": "python",
      "pygments_lexer": "ipython3",
      "version": "3.6.5"
    }
  },
  "nbformat": 4,
  "nbformat_minor": 0
}
