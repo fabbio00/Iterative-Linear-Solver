{
  "cells": [
    {
      "attachments": {},
      "cell_type": "markdown",
      "metadata": {
        "id": "ZOVcR-_eUqBH"
      },
      "source": [
        "# Progetto MCS"
      ]
    },
    {
      "attachments": {},
      "cell_type": "markdown",
      "metadata": {
        "id": "Kqgg_EuHb2Fm"
      },
      "source": [
        "Per la gestione della struttura dati e le operazioni elementari fra matrici è richiesto di partire da una libreria open-source, come Eigen, Armadillo, blas/lapack. Oppure, qualora il linguaggio di programmazione lo permetta utilizzare vettori e matrici già implementate al suo interno.\n"
      ]
    },
    {
      "attachments": {},
      "cell_type": "markdown",
      "metadata": {
        "id": "Q-JhE2d4fZgT"
      },
      "source": [
        "## Data Import"
      ]
    },
    {
      "attachments": {},
      "cell_type": "markdown",
      "metadata": {},
      "source": [
        "Impotazione delle librerie necessarie"
      ]
    },
    {
      "cell_type": "code",
      "execution_count": null,
      "metadata": {
        "id": "g6jKR1Wk-Wqp"
      },
      "outputs": [],
      "source": [
        "import numpy as np\n",
        "import pandas as pd\n",
        "from scipy.io import mmread\n",
        "from scipy.sparse import csr_matrix, tril\n",
        "from scipy.sparse.linalg import spsolve_triangular\n",
        "import matplotlib.pylab as plt\n",
        "import utils as u"
      ]
    },
    {
      "attachments": {},
      "cell_type": "markdown",
      "metadata": {},
      "source": [
        "Recupero dei dati"
      ]
    },
    {
      "cell_type": "code",
      "execution_count": null,
      "metadata": {},
      "outputs": [],
      "source": [
        "data = {\n",
        "    \"spa1\" : 0,\n",
        "    \"spa2\" : 0,\n",
        "    \"vem1\" : 0,\n",
        "    \"vem2\" : 0}\n",
        "for x in data:\n",
        "    data[x] = {\n",
        "        \"A\" : mmread(\"data/\" + x + \".mtx\").tocsr(),\n",
        "        \"x\" : 0,\n",
        "        \"b\" : 0,\n",
        "    }\n",
        "    data[x][\"x\"] = np.array([1.0]*data[x][\"A\"].get_shape()[0])\n",
        "    data[x][\"b\"] = np.array(data[x][\"A\"].dot(data[x][\"x\"]))\n",
        "resTot = {}"
      ]
    },
    {
      "attachments": {},
      "cell_type": "markdown",
      "metadata": {},
      "source": [
        "Tolleranze e metodi"
      ]
    },
    {
      "cell_type": "code",
      "execution_count": null,
      "metadata": {},
      "outputs": [],
      "source": [
        "## Tolleranze\n",
        "tols = [10**(-4), 10**(-6), 10**(-8), 10**(-10)]\n",
        "\n",
        "## Metodi\n",
        "metods = [\"Jacoby\", \"Gauss-Seidel\", \"Gradiente\", \"Gradiente Coniugato\"]"
      ]
    },
    {
      "attachments": {},
      "cell_type": "markdown",
      "metadata": {},
      "source": [
        "Dizionario contente le classi risolutrici"
      ]
    },
    {
      "cell_type": "code",
      "execution_count": null,
      "metadata": {},
      "outputs": [],
      "source": [
        "import jacoby_mcs as ja\n",
        "import gauss_seidel as gs\n",
        "import gradiente as gr\n",
        "import gradiente_coniugato as grc\n",
        "\n",
        "solver = {}\n",
        "solver[\"Jacoby\"] = ja\n",
        "solver[\"Gauss-Seidel\"] = gs\n",
        "solver[\"Gradiente\"] = gr\n",
        "solver[\"Gradiente Coniugato\"] = grc"
      ]
    },
    {
      "attachments": {},
      "cell_type": "markdown",
      "metadata": {
        "id": "_vLrCTow6pux"
      },
      "source": [
        "Condizione di arresto: $\\frac{||Ax^{(k)}-b||}{||b||}<tol$\n",
        "\n",
        "Reminder: \n",
        "\n",
        "1.   **Iniziare le iterazioni con il vettore x nullo**\n",
        "2.   **tol = [$10^{-4}, 10^{-6}, 10^{-8}, 10^{-10}]$**\n",
        "3.   **Dichiarare di non essere giunti a convergenza se k > maxiter dove maxiter lo scegliamo (>= 20000)**\n",
        "\n",
        "\n"
      ]
    },
    {
      "attachments": {},
      "cell_type": "markdown",
      "metadata": {},
      "source": [
        "### Grafici e informazioni sulle matrici"
      ]
    },
    {
      "attachments": {},
      "cell_type": "markdown",
      "metadata": {},
      "source": [
        "Impostazione dei grafici"
      ]
    },
    {
      "cell_type": "code",
      "execution_count": null,
      "metadata": {},
      "outputs": [],
      "source": [
        "import matplotlib.pylab as plt\n",
        "plt.style.use('seaborn')\n",
        "plt.rcParams['figure.figsize'] = [15, 18]\n",
        "plt.rcParams['figure.dpi'] = 100"
      ]
    },
    {
      "attachments": {},
      "cell_type": "markdown",
      "metadata": {},
      "source": [
        "Grafici delle matrici"
      ]
    },
    {
      "cell_type": "code",
      "execution_count": null,
      "metadata": {},
      "outputs": [],
      "source": [
        "i = 221\n",
        "for mt in data:\n",
        "    plt.subplot(i)\n",
        "    plt.spy(data[mt][\"A\"], markersize = 200/data[mt][\"A\"].shape[0])\n",
        "    plt.title(\"Matrice \" + mt, fontsize = 18 )\n",
        "    i += 1\n",
        "plt.suptitle(\"Matrici usate per il progetto\", fontsize = 40)"
      ]
    },
    {
      "attachments": {},
      "cell_type": "markdown",
      "metadata": {},
      "source": [
        "info sulle matrici"
      ]
    },
    {
      "cell_type": "code",
      "execution_count": null,
      "metadata": {},
      "outputs": [],
      "source": [
        "for mt in data:\n",
        "    den = str(round((100 * data[mt][\"A\"].nnz) / (data[mt][\"A\"].shape[0]*data[mt][\"A\"].shape[1]), 2))\n",
        "    print(\"La matrice \" + mt + \" è una matrice \" + str(data[mt][\"A\"].shape[0]) + \"x\" + str(data[mt][\"A\"].shape[1]) + \", contiene \" + str(data[mt][\"A\"].nnz) + \" elementi diversi da 0 ed è quindi densa del \" + den + \"%\")"
      ]
    },
    {
      "attachments": {},
      "cell_type": "markdown",
      "metadata": {},
      "source": [
        "### Preparazione grafico del residuo/errore relativo"
      ]
    },
    {
      "cell_type": "code",
      "execution_count": null,
      "metadata": {},
      "outputs": [],
      "source": [
        "#PRIMA DI ESEGUIRLO CHIAMARE LE FUNZIONI IN FONDO\n",
        "charts_results = {}\n",
        "metods = {\n",
        "    'jacobi': u.jacobi,\n",
        "    'gauss_seidel': u.gauss_seidel,\n",
        "    'gradiente': u.gradiente,\n",
        "    'gradiente_coniugato': u.gradiente_coniugato\n",
        "}\n",
        "for metod in metods:    \n",
        "    charts_results[metod] = {}\n",
        "    for el in data:\n",
        "        charts_results[metod][el] = []\n",
        "        for tol in tols:\n",
        "            chart_result = metods[metod](data[el][\"A\"], data[el][\"b\"], data[el][\"x\"], tol)\n",
        "            charts_results[metod][el].append(chart_result)\n",
        "charts_results\n",
        "\n"
      ]
    },
    {
      "attachments": {},
      "cell_type": "markdown",
      "metadata": {},
      "source": [
        "### GRAFICI SU RESIDUI PER NUMERO ITER"
      ]
    },
    {
      "cell_type": "code",
      "execution_count": null,
      "metadata": {},
      "outputs": [],
      "source": [
        "strtols = [\"1e-04\", \"1e-06\", \"1e-08\", \"1e-10\"]\n",
        "for metod in metods:\n",
        "    for el in data:\n",
        "        plt.plot(charts_results[metod][el][3][\"residual_chart\"])\n",
        "        for index, chart in enumerate(charts_results[metod][el]):\n",
        "            x=len(chart[\"residual_chart\"])\n",
        "            plt.plot(x, charts_results[metod][el][3][\"residual_chart\"][x-1], color='red', marker='o')\n",
        "            plt.text(x, charts_results[metod][el][3][\"residual_chart\"][x-1], strtols[index], color='black', verticalalignment='bottom')\n",
        "\n",
        "        # Etichette degli array\n",
        "        plt.xlabel('ITERAZIONI')\n",
        "        plt.ylabel('VALORE CRITERIO DI ARRESTO')\n",
        "        plt.title('VALORI CRITERIO DI ARRESTO PER '+ metod.upper() + ' SULLA MATRICE ' + el.upper() )\n",
        "        # Mostra il grafico\n",
        "        plt.rcParams['figure.figsize'] = [15, 12]\n",
        "        plt.savefig('VALORI CRITERIO DI ARRESTO PER '+ metod.upper() + ' SULLA MATRICE ' + el.upper())\n",
        "        plt.show()"
      ]
    },
    {
      "attachments": {},
      "cell_type": "markdown",
      "metadata": {},
      "source": [
        "### GRAFICI SU ERRORI RELATIVI PER NUMERO ITER"
      ]
    },
    {
      "cell_type": "code",
      "execution_count": null,
      "metadata": {},
      "outputs": [],
      "source": [
        "#max_length = max(len(chart[\"errrel_chart\"]) for chart in charts_results['jacobi']['spa1'])\n",
        "strtols = [\"1e-04\", \"1e-06\", \"1e-08\", \"1e-10\"]\n",
        "for metod in metods:\n",
        "    for el in data:\n",
        "        plt.plot(charts_results[metod][el][3][\"errrel_chart\"])\n",
        "        for index, chart in enumerate(charts_results[metod][el]):\n",
        "            x=len(chart[\"errrel_chart\"])\n",
        "            plt.plot(x, charts_results[metod][el][3][\"errrel_chart\"][x-1], color='red', marker='o')\n",
        "            plt.text(x, charts_results[metod][el][3][\"errrel_chart\"][x-1], strtols[index], color='black', verticalalignment='bottom')\n",
        "\n",
        "        # Etichette degli array\n",
        "        plt.xlabel('ITERAZIONI')\n",
        "        plt.ylabel('ERRORE RELATIVO')\n",
        "        plt.title('ERRORE RELATIVO PER '+ metod.upper() + ' SULLA MATRICE ' + el.upper() )\n",
        "        plt.rcParams['figure.figsize'] = [15, 12]\n",
        "        plt.savefig('ERRORE RELATIVO PER '+ metod.upper() + ' SULLA MATRICE ' + el.upper())\n",
        "        # Mostra il grafico\n",
        "        plt.show()\n"
      ]
    },
    {
      "attachments": {},
      "cell_type": "markdown",
      "metadata": {
        "id": "U-gnxnUabWFc"
      },
      "source": [
        "## Metodo di Jacobi"
      ]
    },
    {
      "attachments": {},
      "cell_type": "markdown",
      "metadata": {},
      "source": [
        "$x^{(k+1)} = x^{(k)} + P^{-1}r^{(k)}$"
      ]
    },
    {
      "attachments": {},
      "cell_type": "markdown",
      "metadata": {},
      "source": [
        "Grafico delle matrici $P^{-1}$"
      ]
    },
    {
      "cell_type": "code",
      "execution_count": null,
      "metadata": {},
      "outputs": [],
      "source": [
        "i = 221\n",
        "for mt in data:\n",
        "    plt.subplot(i)\n",
        "    mtxP = 1/data[mt][\"A\"].diagonal()\n",
        "    ax = np.array(range(data[mt][\"A\"].shape[0]))\n",
        "    mtxP = csr_matrix((mtxP, (ax, ax)), shape=(data[mt][\"A\"].shape[0], data[mt][\"A\"].shape[1]))\n",
        "    plt.spy(mtxP, markersize = 200/data[mt][\"A\"].shape[0])\n",
        "    plt.title(mt, fontsize = 18 )\n",
        "    i += 1\n",
        "# plt.savefig(\"data/img/JacobyP.png\")"
      ]
    },
    {
      "cell_type": "code",
      "execution_count": null,
      "metadata": {},
      "outputs": [],
      "source": [
        "import jacoby_mcs as ja\n",
        "method = \"Jacoby\"\n",
        "resTot = {}\n",
        "resTot[method] = {}\n",
        "for el in data:\n",
        "    resTot[method][el] = []\n",
        "    for tol in tols:\n",
        "        res = ja.solve(data[el][\"A\"], data[el][\"b\"], data[el][\"x\"], tol)\n",
        "        resTot[method][el].append({\n",
        "            \"tol\" : tol,\n",
        "            \"nIter\" : res[\"nIter\"],\n",
        "            \"time\" : res[\"time\"],\n",
        "            \"eRel\" : res[\"eRel\"] \n",
        "        })\n",
        "\n",
        "resTot"
      ]
    },
    {
      "attachments": {},
      "cell_type": "markdown",
      "metadata": {},
      "source": [
        "## Metodo di Gauß-Seidel"
      ]
    },
    {
      "attachments": {},
      "cell_type": "markdown",
      "metadata": {},
      "source": [
        "1. $r^{(k)} = b − Ax^{(k)}$\n",
        "2. Sostituzione in avanti Py = r^{(k)}\n",
        "3. $x^{(k+1)} = y^{(k)} + y$\n"
      ]
    },
    {
      "attachments": {},
      "cell_type": "markdown",
      "metadata": {},
      "source": [
        "Grafico delle matrici $P$"
      ]
    },
    {
      "cell_type": "code",
      "execution_count": null,
      "metadata": {},
      "outputs": [],
      "source": [
        "i = 221\n",
        "for mt in data:\n",
        "    plt.subplot(i)\n",
        "    mtxP = tril(data[mt][\"A\"], format=\"csr\")\n",
        "    plt.spy(mtxP, markersize = 200/data[mt][\"A\"].shape[0])\n",
        "    plt.title(mt, fontsize = 18 )\n",
        "    i += 1\n",
        "# plt.savefig(\"data/img/Gauss-SeidelP.png\")"
      ]
    },
    {
      "cell_type": "code",
      "execution_count": null,
      "metadata": {},
      "outputs": [],
      "source": [
        "import gauss_seidel as gs\n",
        "method = \"Gauss-Seidel\"\n",
        "resTot[method] = {}\n",
        "for el in data:\n",
        "    resTot[method][el] = []\n",
        "    for tol in tols:\n",
        "        res = gs.solve(mtxA=data[el][\"A\"], vectB=data[el][\"b\"], tol=tol, vectX=data[el][\"x\"])\n",
        "        resTot[method][el].append({\n",
        "            \"tol\" : tol,\n",
        "            \"nIter\" : res[\"nIter\"],\n",
        "            \"time\" : res[\"time\"],\n",
        "            \"eRel\" : res[\"eRel\"] \n",
        "        })\n",
        "\n",
        "resTot"
      ]
    },
    {
      "attachments": {},
      "cell_type": "markdown",
      "metadata": {
        "id": "ANbpDWkobi2n"
      },
      "source": [
        "## Metodo del Gradiente\n"
      ]
    },
    {
      "attachments": {},
      "cell_type": "markdown",
      "metadata": {},
      "source": [
        "1. $r^{(k)} = b -Ax^{(k)}$\n",
        "2. $y^{(k)} = Ar^{(k)}$\n",
        "3. $a = (r^{(k)})^tr^{(k)}$\n",
        "4. $b = (r^{(k)})^ty^{(k)}$\n",
        "5. $\\alpha_k = a/b$\n",
        "6. $x^{(k+1)} = r^{(k)} \\alpha_kr^{(k)}$"
      ]
    },
    {
      "cell_type": "code",
      "execution_count": null,
      "metadata": {},
      "outputs": [],
      "source": [
        "import gradiente as gr\n",
        "\n",
        "method = \"Gradiente\"\n",
        "solver = {}\n",
        "solver[method] = gr\n",
        "resTot[method] = {}\n",
        "for el in data:\n",
        "    resTot[method][el] = []\n",
        "    for tol in tols:\n",
        "        res = solver[method].solve(mtxA=data[el][\"A\"], vectB=data[el][\"b\"], tol=tol, vectX=data[el][\"x\"])\n",
        "        resTot[method][el].append({\n",
        "            \"tol\" : tol,\n",
        "            \"nIter\" : res[\"nIter\"],\n",
        "            \"time\" : res[\"time\"],\n",
        "            \"eRel\" : res[\"eRel\"] \n",
        "        })\n",
        "resTot"
      ]
    },
    {
      "attachments": {},
      "cell_type": "markdown",
      "metadata": {
        "id": "a_6ydPtybq1C"
      },
      "source": [
        "## Metodo del Gradiente coniugato\n",
        "\n",
        "- Un vettore ottimale rispetto a una direzione d se d*r(k)=0\n",
        "- x(k+1) è ottimale rispetto a r(k+1)\n",
        "- x(k+1) = x(k) + a(k)d(k)\n",
        "- a(k) = ( d(k)^t * r(k) ) / ( d(k)^t * Ad(k) )\n",
        "- d(k+1) = r(k+1) - b(k)*d(k)\n",
        "- b(k) = ( d(k)^t * Ar(k+1) ) / ( d(k)^t * Ad(k) )\n",
        "\n"
      ]
    },
    {
      "cell_type": "code",
      "execution_count": null,
      "metadata": {},
      "outputs": [],
      "source": [
        "import gradiente_coniugato as grc\n",
        "method = \"Gradiente Coniugato\"\n",
        "resTot = {}\n",
        "resTot[method] = {}\n",
        "for el in data:\n",
        "    resTot[method][el] = []\n",
        "    for tol in tols:\n",
        "        res = grc.solve(data[el][\"A\"], data[el][\"b\"], data[el][\"x\"], tol)\n",
        "        resTot[method][el].append({\n",
        "            \"tol\" : tol,\n",
        "            \"nIter\" : res[\"nIter\"],\n",
        "            \"time\" : res[\"time\"],\n",
        "            \"eRel\" : res[\"eRel\"] \n",
        "        })\n",
        "\n",
        "resTot"
      ]
    },
    {
      "attachments": {},
      "cell_type": "markdown",
      "metadata": {},
      "source": [
        "## Risultati totali"
      ]
    },
    {
      "cell_type": "code",
      "execution_count": null,
      "metadata": {},
      "outputs": [],
      "source": [
        "resTot = {}\n",
        "for mth in solver:    \n",
        "    resTot[mth] = {}\n",
        "    for el in data:\n",
        "        resTot[mth][el] = []\n",
        "        for tol in tols:\n",
        "            res = solver[mth].solve(mtxA=data[el][\"A\"], vectB=data[el][\"b\"], tol=tol, vectX=data[el][\"x\"])\n",
        "            resTot[mth][el].append({\n",
        "                \"tol\" : tol,\n",
        "                \"nIter\" : res[\"nIter\"],\n",
        "                \"time\" : res[\"time\"],\n",
        "                \"eRel\" : res[\"eRel\"] \n",
        "            })\n",
        "resTot"
      ]
    },
    {
      "attachments": {},
      "cell_type": "markdown",
      "metadata": {},
      "source": [
        "### Grafici"
      ]
    },
    {
      "cell_type": "code",
      "execution_count": null,
      "metadata": {},
      "outputs": [],
      "source": [
        "import json\n",
        "with open(\"Results.json\", 'r') as file:\n",
        "    resTot = json.load(file)"
      ]
    },
    {
      "attachments": {},
      "cell_type": "markdown",
      "metadata": {},
      "source": [
        "### Grafici di ogni matrice\n",
        "\n",
        "Confronto dei metodi su una singola matrice"
      ]
    },
    {
      "cell_type": "code",
      "execution_count": null,
      "metadata": {},
      "outputs": [],
      "source": [
        "stmDF = {} # Stampe DataFrame\n",
        "stmDF[\"Tempistiche\"] = {}\n",
        "stmDF[\"Iterazioni\"] = {}\n",
        "stmDF[\"Errore Relativo\"] = {}\n",
        "br = {}\n",
        "\n",
        "for mt in data:\n",
        "    br[mt] = {}\n",
        "    stmDF[\"Tempistiche\"][mt] = {}\n",
        "    stmDF[\"Iterazioni\"][mt] = {}\n",
        "    stmDF[\"Errore Relativo\"][mt] = {}\n",
        "for mth in resTot:\n",
        "    for mt in resTot[mth]:\n",
        "        br[mt][mth] = []\n",
        "        stmDF[\"Tempistiche\"][mt][mth] = []\n",
        "        stmDF[\"Iterazioni\"][mt][mth] = []\n",
        "        stmDF[\"Errore Relativo\"][mt][mth] = []\n",
        "        for el in resTot[mth][mt]:\n",
        "            stmDF[\"Tempistiche\"][mt][mth].append(el[\"time\"])\n",
        "            stmDF[\"Iterazioni\"][mt][mth].append(el[\"nIter\"])\n",
        "            stmDF[\"Errore Relativo\"][mt][mth].append(el[\"eRel\"])\n",
        "    \n",
        "barWidth = 1/(len(solver)+1)\n",
        "\n",
        "\n",
        "for mtx in br:\n",
        "    ks = list(br[mtx].keys())\n",
        "    br[mtx][ks[0]] = np.arange(len(tols))\n",
        "    for i in range(1, len(br[mtx])):\n",
        "        br[mtx][ks[i]] = [round(x + barWidth, 2) for x in br[mtx][ks[i-1]]]\n",
        "\n",
        "colors = [\"r\", \"g\", \"b\", \"y\"]\n",
        "\n",
        "mts = list(data.keys())\n",
        "\n",
        "plt.rcParams['figure.figsize'] = [9, 6]"
      ]
    },
    {
      "cell_type": "code",
      "execution_count": null,
      "metadata": {},
      "outputs": [],
      "source": [
        "for tp in stmDF: #tp = type\n",
        "    for mtx in stmDF[tp]:\n",
        "        i = 0\n",
        "        for mth in stmDF[tp][mtx]:\n",
        "            plt.bar(br[mtx][mth], stmDF[tp][mtx][mth], \n",
        "                color = colors[i], width = barWidth,\n",
        "                edgecolor ='grey', label =mth)\n",
        "            for j in range(len(br[mtx][mth])):\n",
        "                if tp == \"Tempistiche\":\n",
        "                    stm = u.printTime(stmDF[tp][mtx][mth][j])\n",
        "                elif tp == \"Errore Relativo\":\n",
        "                    stm = format(stmDF[tp][mtx][mth][j], \".1e\")\n",
        "                else:\n",
        "                    stm = str(stmDF[tp][mtx][mth][j])\n",
        "                plt.text( br[mtx][mth][j], stmDF[tp][mtx][mth][j], stm, ha='center', va=\"bottom\", rotation=45 )\n",
        "            i += 1\n",
        "        plt.xlabel('Tolleranze', fontweight ='bold', fontsize = 15)\n",
        "        plt.ylabel(tp, fontsize = 15)\n",
        "        plt.xticks([r + barWidth for r in range(len(tols))], tols)\n",
        "        plt.title(mtx)\n",
        "    \n",
        "        \n",
        "        plt.legend()\n",
        "        # plt.savefig(\"data/img/\" + tp + \" \" + mtx + \".png\")\n",
        "        plt.show()"
      ]
    },
    {
      "attachments": {},
      "cell_type": "markdown",
      "metadata": {},
      "source": [
        "### Grafici di ogni metodo\n",
        "\n",
        "Confronto sulle varie matrici di ogni singolo metodo "
      ]
    },
    {
      "attachments": {},
      "cell_type": "markdown",
      "metadata": {},
      "source": [
        "Recupero dei dati utili per i grafici"
      ]
    },
    {
      "cell_type": "code",
      "execution_count": null,
      "metadata": {},
      "outputs": [],
      "source": [
        "stmDF = {}\n",
        "for mth in resTot:\n",
        "    stmDF[mth] = {\n",
        "        \"Tempistiche\" : {},\n",
        "        \"Iterazioni\" : {},\n",
        "        \"Errore Relativo\" : {}\n",
        "    }\n",
        "    for tol in tols:\n",
        "        stmDF[mth][\"Tempistiche\"][str(tol)] = []\n",
        "        stmDF[mth][\"Iterazioni\"][str(tol)] = []\n",
        "        stmDF[mth][\"Errore Relativo\"][str(tol)] = []\n",
        "    for mt in resTot[mth]:\n",
        "        for el in resTot[mth][mt]:\n",
        "            stmDF[mth][\"Tempistiche\"][str(el[\"tol\"])].append(el[\"time\"])\n",
        "            stmDF[mth][\"Iterazioni\"][str(el[\"tol\"])].append(el[\"nIter\"])\n",
        "            stmDF[mth][\"Errore Relativo\"][str(el[\"tol\"])].append(el[\"eRel\"])\n",
        "    "
      ]
    },
    {
      "attachments": {},
      "cell_type": "markdown",
      "metadata": {},
      "source": [
        "Definizioni delle barre"
      ]
    },
    {
      "cell_type": "code",
      "execution_count": null,
      "metadata": {},
      "outputs": [],
      "source": [
        "br = {}\n",
        "for tol in tols:\n",
        "    br[str(tol)] = []\n",
        "barWidth = 1/(len(stmDF[mth][\"Tempistiche\"])+1)\n",
        "\n",
        "ks = list(br.keys())\n",
        "br[ks[0]] = np.arange(len(tols))\n",
        "for i in range(1, len(br)):\n",
        "    br[ks[i]] =  br2 = [round(x + barWidth, 2) for x in br[ks[i-1]]]\n",
        "\n",
        "colors = [\"r\", \"g\", \"b\", \"y\"]\n",
        "\n",
        "mts = list(data.keys())\n",
        "\n",
        "plt.rcParams['figure.figsize'] = [9, 6]"
      ]
    },
    {
      "attachments": {},
      "cell_type": "markdown",
      "metadata": {},
      "source": [
        "Stampa dei grafici"
      ]
    },
    {
      "cell_type": "code",
      "execution_count": null,
      "metadata": {},
      "outputs": [],
      "source": [
        "for mth in stmDF:\n",
        "    for tp in stmDF[mth]:\n",
        "        for i in range(len(tols)):\n",
        "            plt.bar(br[str(tols[i])], stmDF[mth][tp][str(tols[i])],\n",
        "                    color = colors[i], width = barWidth,\n",
        "                        edgecolor ='grey', label =str(tols[i]))\n",
        "            for j in range(len(br[str(tols[i])])):\n",
        "                if tp == \"Tempistiche\":\n",
        "                    stm = u.printTime(stmDF[mth][tp][str(tols[i])][j])\n",
        "                elif tp == \"Errore Relativo\":\n",
        "                    stm = format(stmDF[mth][tp][str(tols[i])][j], \".1e\")\n",
        "                else:\n",
        "                    stm = str(stmDF[mth][tp][str(tols[i])][j])\n",
        "                plt.text( br[str(tols[i])][j], stmDF[mth][tp][str(tols[i])][j], stm, ha='center', va=\"bottom\", rotation=45 )\n",
        "\n",
        "        plt.xlabel('Matrici', fontweight ='bold', fontsize = 15)\n",
        "        plt.ylabel(tp, fontsize = 15)\n",
        "        plt.xticks([r + barWidth for r in range(len(tols))], mts)\n",
        "        plt.title(mth)\n",
        "\n",
        "        plt.legend()\n",
        "        # plt.savefig(\"data/img/\" + mth + \" - \" + tp + \".png\")\n",
        "        plt.show()"
      ]
    },
    {
      "attachments": {},
      "cell_type": "markdown",
      "metadata": {},
      "source": [
        "Grafici dei metodi sulle matrici **spa**"
      ]
    },
    {
      "cell_type": "code",
      "execution_count": null,
      "metadata": {},
      "outputs": [],
      "source": [
        "for mth in stmDF:\n",
        "    for tp in stmDF[mth]:\n",
        "        for i in range(len(tols)):\n",
        "            plt.bar(br[str(tols[i])][:2], stmDF[mth][tp][str(tols[i])][:2], \n",
        "                color = colors[i], width = barWidth,\n",
        "                        edgecolor ='grey', label =str(tols[i]))\n",
        "            for j in range(len(br[str(tols[i])][:2])):\n",
        "                if tp == \"Tempistiche\":\n",
        "                    stm = u.printTime(stmDF[mth][tp][str(tols[i])][j])\n",
        "                elif tp == \"Errore Relativo\":\n",
        "                    stm = format(stmDF[mth][tp][str(tols[i])][j], \".1e\")\n",
        "                else:\n",
        "                    stm = str(stmDF[mth][tp][str(tols[i])][j])\n",
        "                plt.text(br[str(tols[i])][j], stmDF[mth][tp][str(tols[i])][j], stm, ha='center', va=\"bottom\")    \n",
        "\n",
        "        plt.xlabel('Matrici', fontweight ='bold', fontsize = 15)\n",
        "        plt.ylabel(tp, fontsize = 15)\n",
        "        plt.xticks([r + barWidth for r in range(len(mts[:2]))], mts[:2])\n",
        "        plt.title(mth + \" ~ SPA\")\n",
        "\n",
        "        plt.legend()\n",
        "        # plt.savefig(\"data/img/\" + mth + \" ~ SPA - \" + tp + \".png\")\n",
        "        plt.show()"
      ]
    },
    {
      "attachments": {},
      "cell_type": "markdown",
      "metadata": {},
      "source": [
        "Grafici dei metodi sulle matrici **vem**"
      ]
    },
    {
      "cell_type": "code",
      "execution_count": null,
      "metadata": {},
      "outputs": [],
      "source": [
        "for mth in stmDF:\n",
        "    for tp in stmDF[mth]:\n",
        "        for i in range(len(tols)):\n",
        "            plt.bar(br[str(tols[i])][:2], stmDF[mth][tp][str(tols[i])][2:], \n",
        "                    color = colors[i], width = barWidth,\n",
        "                        edgecolor ='grey', label =str(tols[i]))\n",
        "            for j in range(len(br[str(tols[i])][:2])):\n",
        "                if tp == \"Tempistiche\":\n",
        "                    stm = u.printTime(stmDF[mth][tp][str(tols[i])][j])\n",
        "                elif tp == \"Errore Relativo\":\n",
        "                    stm = format(stmDF[mth][tp][str(tols[i])][j], \".1e\")\n",
        "                else:\n",
        "                    stm = str(stmDF[mth][tp][str(tols[i])][j])\n",
        "                plt.text(br[str(tols[i])][j], stmDF[mth][tp][str(tols[i])][j+2], stm, ha='center', va=\"bottom\")\n",
        "\n",
        "\n",
        "        plt.xlabel('Matrici', fontweight ='bold', fontsize = 15)\n",
        "        plt.ylabel('tempistiche', fontsize = 15)\n",
        "        plt.xticks([r + barWidth for r in range(len(mts[2:]))], mts[2:])\n",
        "        plt.title(mth + \" ~ VEM\")\n",
        "\n",
        "        plt.legend()\n",
        "        # plt.savefig(\"data/img/\" + mth + \" ~ VEM - \" + tp + \".png\")\n",
        "        plt.show()"
      ]
    }
  ],
  "metadata": {
    "colab": {
      "provenance": []
    },
    "kernelspec": {
      "display_name": "base",
      "language": "python",
      "name": "python3"
    },
    "language_info": {
      "codemirror_mode": {
        "name": "ipython",
        "version": 3
      },
      "file_extension": ".py",
      "mimetype": "text/x-python",
      "name": "python",
      "nbconvert_exporter": "python",
      "pygments_lexer": "ipython3",
      "version": "3.9.7"
    }
  },
  "nbformat": 4,
  "nbformat_minor": 0
}
