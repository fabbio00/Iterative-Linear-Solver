{
  "nbformat": 4,
  "nbformat_minor": 0,
  "metadata": {
    "colab": {
      "provenance": []
    },
    "kernelspec": {
      "name": "python3",
      "display_name": "Python 3"
    },
    "language_info": {
      "name": "python"
    }
  },
  "cells": [
    {
      "cell_type": "markdown",
      "source": [
        "# Progetto MCS"
      ],
      "metadata": {
        "id": "ZOVcR-_eUqBH"
      }
    },
    {
      "cell_type": "markdown",
      "source": [
        "Per la gestione della struttura dati e le operazioni elementari fra matrici è richiesto di partire da una libreria open-source, come Eigen, Armadillo, blas/lapack. Oppure, qualora il linguaggio di programmazione lo permetta utilizzare vettori e matrici già implementate al suo interno.\n"
      ],
      "metadata": {
        "id": "Kqgg_EuHb2Fm"
      }
    },
    {
      "cell_type": "code",
      "execution_count": null,
      "metadata": {
        "id": "xyWf51r1UizA"
      },
      "outputs": [],
      "source": []
    },
    {
      "cell_type": "code",
      "source": [
        "from google.colab import drive\n",
        "drive.mount('/content/drive')"
      ],
      "metadata": {
        "colab": {
          "base_uri": "https://localhost:8080/"
        },
        "id": "Zcor3f5h5Avb",
        "outputId": "60dce280-f64d-451b-c5cb-83c356d49021"
      },
      "execution_count": null,
      "outputs": [
        {
          "output_type": "stream",
          "name": "stdout",
          "text": [
            "Mounted at /content/drive\n"
          ]
        }
      ]
    },
    {
      "cell_type": "markdown",
      "source": [
        "## Data Import"
      ],
      "metadata": {
        "id": "Q-JhE2d4fZgT"
      }
    },
    {
      "cell_type": "code",
      "source": [
        "!pip install matrixconverters"
      ],
      "metadata": {
        "colab": {
          "base_uri": "https://localhost:8080/"
        },
        "id": "ok8eO5mIi6O7",
        "outputId": "3f8b072f-66ff-42a6-f514-3bceaaca8aab"
      },
      "execution_count": null,
      "outputs": [
        {
          "output_type": "stream",
          "name": "stdout",
          "text": [
            "Looking in indexes: https://pypi.org/simple, https://us-python.pkg.dev/colab-wheels/public/simple/\n",
            "Collecting matrixconverters\n",
            "  Downloading matrixconverters-1.2.0-py3-none-any.whl (20 kB)\n",
            "Requirement already satisfied: xarray in /usr/local/lib/python3.9/dist-packages (from matrixconverters) (2022.12.0)\n",
            "Collecting cythoninstallhelpers\n",
            "  Downloading cythoninstallhelpers-1.3.0-py3-none-any.whl (12 kB)\n",
            "Requirement already satisfied: h5netcdf in /usr/local/lib/python3.9/dist-packages (from matrixconverters) (1.1.0)\n",
            "Requirement already satisfied: cython in /usr/local/lib/python3.9/dist-packages (from cythoninstallhelpers->matrixconverters) (0.29.34)\n",
            "Requirement already satisfied: numpy in /usr/local/lib/python3.9/dist-packages (from cythoninstallhelpers->matrixconverters) (1.22.4)\n",
            "Requirement already satisfied: h5py in /usr/local/lib/python3.9/dist-packages (from h5netcdf->matrixconverters) (3.8.0)\n",
            "Requirement already satisfied: packaging in /usr/local/lib/python3.9/dist-packages (from h5netcdf->matrixconverters) (23.0)\n",
            "Requirement already satisfied: pandas>=1.3 in /usr/local/lib/python3.9/dist-packages (from xarray->matrixconverters) (1.5.3)\n",
            "Requirement already satisfied: python-dateutil>=2.8.1 in /usr/local/lib/python3.9/dist-packages (from pandas>=1.3->xarray->matrixconverters) (2.8.2)\n",
            "Requirement already satisfied: pytz>=2020.1 in /usr/local/lib/python3.9/dist-packages (from pandas>=1.3->xarray->matrixconverters) (2022.7.1)\n",
            "Requirement already satisfied: six>=1.5 in /usr/local/lib/python3.9/dist-packages (from python-dateutil>=2.8.1->pandas>=1.3->xarray->matrixconverters) (1.16.0)\n",
            "Installing collected packages: cythoninstallhelpers, matrixconverters\n",
            "Successfully installed cythoninstallhelpers-1.3.0 matrixconverters-1.2.0\n"
          ]
        }
      ]
    },
    {
      "cell_type": "code",
      "source": [
        "import numpy as np\n",
        "from scipy.io import mmread\n",
        "from scipy.sparse import csr_matrix"
      ],
      "metadata": {
        "id": "g6jKR1Wk-Wqp"
      },
      "execution_count": 1,
      "outputs": []
    },
    {
      "cell_type": "code",
      "source": [
        "#import Fabio\n",
        "spa1 = mmread('/content/spa1.mtx')\n",
        "spa2 = mmread('/content/spa2.mtx')\n",
        "vem1 = mmread('/content/vem1.mtx')\n",
        "vem2 = mmread('/content/vem2.mtx')"
      ],
      "metadata": {
        "id": "Cu4xGTCOYNKU"
      },
      "execution_count": 2,
      "outputs": []
    },
    {
      "cell_type": "code",
      "source": [
        "spa1 = csr_matrix(spa1, (spa1).shape).toarray()\n",
        "spa1"
      ],
      "metadata": {
        "colab": {
          "base_uri": "https://localhost:8080/"
        },
        "id": "uW86NSNCCziF",
        "outputId": "e7db10ff-b6d4-49b2-9f05-22e712e657b3"
      },
      "execution_count": 3,
      "outputs": [
        {
          "output_type": "execute_result",
          "data": {
            "text/plain": [
              "array([[9.61000e+02, 0.00000e+00, 0.00000e+00, ..., 0.00000e+00,\n",
              "        5.00000e-02, 0.00000e+00],\n",
              "       [0.00000e+00, 7.45000e+02, 1.43600e+00, ..., 0.00000e+00,\n",
              "        0.00000e+00, 0.00000e+00],\n",
              "       [0.00000e+00, 1.43600e+00, 5.24000e+02, ..., 0.00000e+00,\n",
              "        0.00000e+00, 3.20000e-02],\n",
              "       ...,\n",
              "       [0.00000e+00, 0.00000e+00, 0.00000e+00, ..., 1.70548e+02,\n",
              "        0.00000e+00, 0.00000e+00],\n",
              "       [5.00000e-02, 0.00000e+00, 0.00000e+00, ..., 0.00000e+00,\n",
              "        5.73000e+02, 0.00000e+00],\n",
              "       [0.00000e+00, 0.00000e+00, 3.20000e-02, ..., 0.00000e+00,\n",
              "        0.00000e+00, 1.49000e+02]])"
            ]
          },
          "metadata": {},
          "execution_count": 3
        }
      ]
    },
    {
      "cell_type": "markdown",
      "source": [
        "Creazione vettore $b$"
      ],
      "metadata": {
        "id": "f5kwHfGH6bDF"
      }
    },
    {
      "cell_type": "code",
      "source": [
        "spa1x = [1]*spa1.shape[0]\n",
        "spa1b = spa1.dot(spa1x)\n",
        "# spa1b"
      ],
      "metadata": {
        "id": "VQaklqzSJ5Mr"
      },
      "execution_count": 4,
      "outputs": []
    },
    {
      "cell_type": "code",
      "source": [
        "spa2x = [1]*spa2.shape[0]\n",
        "spa2b = spa2.dot(spa2x)\n",
        "# spa2b"
      ],
      "metadata": {
        "id": "YyAPwPFb6Df1"
      },
      "execution_count": null,
      "outputs": []
    },
    {
      "cell_type": "markdown",
      "source": [
        "## Dade"
      ],
      "metadata": {
        "id": "rL1ZThKH58sY"
      }
    },
    {
      "cell_type": "code",
      "source": [
        "import numpy as np\n",
        "from scipy.io import mmread\n",
        "\n",
        "spa1 = mmread('/content/drive/MyDrive/Progetto MCS/dati/spa1.mtx')\n",
        "spa2 = mmread('/content/drive/MyDrive/Progetto MCS/dati/spa2.mtx')\n",
        "vem1 = mmread('/content/drive/MyDrive/Progetto MCS/dati/vem1.mtx')\n",
        "vem2 = mmread('/content/drive/MyDrive/Progetto MCS/dati/vem2.mtx')\n"
      ],
      "metadata": {
        "id": "TGEOgfXNfb1j"
      },
      "execution_count": null,
      "outputs": []
    },
    {
      "cell_type": "markdown",
      "source": [
        "Condizione di arresto: $\\frac{||Ax^{(k)}-b||}{||b||}<tol$\n",
        "\n",
        "Reminder: \n",
        "\n",
        "1.   **Iniziare le iterazioni con il vettore x nullo**\n",
        "2.   **tol = [$10^{-4}, 10^{-6}, 10^{-8}, 10^{-10}]$**\n",
        "3.   **Dichiarare di non essere giunti a convergenza se k > maxiter dove maxiter lo scegliamo (>= 20000)**\n",
        "\n",
        "\n"
      ],
      "metadata": {
        "id": "_vLrCTow6pux"
      }
    },
    {
      "cell_type": "markdown",
      "source": [
        "## Metodo di Jacobi\n",
        "https://en.wikipedia.org/wiki/Jacobi_method"
      ],
      "metadata": {
        "id": "U-gnxnUabWFc"
      }
    },
    {
      "cell_type": "code",
      "source": [
        "iteration_vector = [0]*spa1.shape[0]\n",
        "k = 0\n",
        "tol = 10**(-4)\n",
        "while (np.divide(np.linalg.norm((np.subtract(spa1.dot(iteration_vector), spa1b))), np.linalg.norm(spa1b)) >= tol) and k <= 20000:\n",
        "  for i in range (1, spa1.shape[0]):\n",
        "    sigma = 0\n",
        "    for j in range(1, spa1.shape[0]):\n",
        "      if(j!=i):\n",
        "        sigma = sigma + spa1[i][j]*iteration_vector[j]\n",
        "    iteration_vector[i] = (spa1b[i]-sigma)/spa1[i][i]\n",
        "  k = k+1\n",
        "  if(k%100 == 0):\n",
        "    print(k)"
      ],
      "metadata": {
        "id": "wF5-y0kfbbF4",
        "colab": {
          "base_uri": "https://localhost:8080/"
        },
        "outputId": "5e7bf131-d866-409a-e2f5-fd155d3a5ee7"
      },
      "execution_count": 30,
      "outputs": [
        {
          "output_type": "stream",
          "name": "stdout",
          "text": [
            "100\n",
            "200\n",
            "300\n",
            "400\n",
            "500\n",
            "600\n",
            "700\n",
            "800\n",
            "900\n"
          ]
        },
        {
          "output_type": "stream",
          "name": "stderr",
          "text": [
            "<ipython-input-30-63817d988813>:9: RuntimeWarning: overflow encountered in double_scalars\n",
            "  sigma = sigma + spa1[i][j]*iteration_vector[j]\n",
            "<ipython-input-30-63817d988813>:9: RuntimeWarning: invalid value encountered in double_scalars\n",
            "  sigma = sigma + spa1[i][j]*iteration_vector[j]\n"
          ]
        }
      ]
    },
    {
      "cell_type": "markdown",
      "source": [
        "### Errore relativo - numero iterazioni - tempo di calcolo"
      ],
      "metadata": {
        "id": "Ue8-VyjR9gop"
      }
    },
    {
      "cell_type": "code",
      "source": [
        "#numero iterazioni\n",
        "k"
      ],
      "metadata": {
        "colab": {
          "base_uri": "https://localhost:8080/"
        },
        "id": "IYjbcvkM9n2v",
        "outputId": "61bf06d4-02f6-477f-8483-fd2c5373e03e"
      },
      "execution_count": 31,
      "outputs": [
        {
          "output_type": "execute_result",
          "data": {
            "text/plain": [
              "913"
            ]
          },
          "metadata": {},
          "execution_count": 31
        }
      ]
    },
    {
      "cell_type": "code",
      "source": [
        "#errore relativo\n",
        "np.linalg.norm(np.subtract(iteration_vector, spa1x))/np.linalg.norm(spa1x)"
      ],
      "metadata": {
        "colab": {
          "base_uri": "https://localhost:8080/"
        },
        "id": "ib_ChPLXZv3n",
        "outputId": "1fc6b2d4-8085-4ebc-ae76-3d092abc623b"
      },
      "execution_count": 32,
      "outputs": [
        {
          "output_type": "execute_result",
          "data": {
            "text/plain": [
              "nan"
            ]
          },
          "metadata": {},
          "execution_count": 32
        }
      ]
    },
    {
      "cell_type": "markdown",
      "source": [],
      "metadata": {
        "id": "gDgXAO4F9Zqa"
      }
    },
    {
      "cell_type": "markdown",
      "source": [
        "## Metodo di Gauß-Seidel\n"
      ],
      "metadata": {
        "id": "dkfvIXkLbchZ"
      }
    },
    {
      "cell_type": "code",
      "source": [],
      "metadata": {
        "id": "1EXW926fbvqs"
      },
      "execution_count": null,
      "outputs": []
    },
    {
      "cell_type": "markdown",
      "source": [
        "## Metodo del Gradiente\n"
      ],
      "metadata": {
        "id": "ANbpDWkobi2n"
      }
    },
    {
      "cell_type": "code",
      "source": [],
      "metadata": {
        "id": "LCmCpXWFbwLO"
      },
      "execution_count": null,
      "outputs": []
    },
    {
      "cell_type": "markdown",
      "source": [
        "## Metodo del Gradiente coniugato\n"
      ],
      "metadata": {
        "id": "a_6ydPtybq1C"
      }
    },
    {
      "cell_type": "code",
      "source": [],
      "metadata": {
        "id": "IKun5XMlbwuH"
      },
      "execution_count": null,
      "outputs": []
    }
  ]
}